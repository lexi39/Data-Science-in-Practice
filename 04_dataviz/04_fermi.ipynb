{
 "cells": [
  {
   "cell_type": "markdown",
   "metadata": {
    "slideshow": {
     "slide_type": "slide"
    }
   },
   "source": [
    "## Class Announcements\n",
    "- **Project Proposal** due Friday\n",
    "    - submit in your group's repo on GitHub\n",
    "    - use the Project Proposal document in Projects repo\n",
    "    - you cloned that repo onto your computer for A1\n",
    "    - one submission per group\n",
    "- **Week 3 quiz** available (due Friday)\n",
    "- **A2** due next Friday\n",
    "- **Office Hours (Prof Ellis)** - 2:30 - 4 PM *this week only*"
   ]
  },
  {
   "cell_type": "markdown",
   "metadata": {
    "slideshow": {
     "slide_type": "slide"
    }
   },
   "source": [
    "### Final Group Repos: Created on GitHub \n",
    "- Incorrect PID: 6 people\n",
    "- Incorrect GH username: ~5~ 3 people (rkuijnj, harbor_s, poonamvarkhedi)\n",
    "- Group sizes: 1 group of 3 people\n",
    "- Students without a group: ~43~ 19"
   ]
  },
  {
   "cell_type": "markdown",
   "metadata": {
    "slideshow": {
     "slide_type": "slide"
    }
   },
   "source": [
    "# Data Wrangling, Data Intuition & Wisdom of the Crowds\n",
    "\n",
    "Putting it all together:\n",
    "- pandas\n",
    "- data wrangling\n",
    "- data intuition\n",
    "- wisdom of the crowds\n",
    "\n",
    "We'll use your responses to the Fermi estimation Google Form to do this."
   ]
  },
  {
   "cell_type": "markdown",
   "metadata": {
    "slideshow": {
     "slide_type": "slide"
    }
   },
   "source": [
    "## Setup"
   ]
  },
  {
   "cell_type": "code",
   "execution_count": 1,
   "metadata": {
    "slideshow": {
     "slide_type": "-"
    }
   },
   "outputs": [],
   "source": [
    "# import working with data libraries\n",
    "import pandas as pd\n",
    "import numpy as np"
   ]
  },
  {
   "cell_type": "markdown",
   "metadata": {
    "slideshow": {
     "slide_type": "slide"
    }
   },
   "source": [
    "## The Data"
   ]
  },
  {
   "cell_type": "code",
   "execution_count": 2,
   "metadata": {
    "slideshow": {
     "slide_type": "-"
    }
   },
   "outputs": [],
   "source": [
    "# read data into Python\n",
    "df = pd.read_csv('data/fermi_wi20.csv')"
   ]
  },
  {
   "cell_type": "code",
   "execution_count": 3,
   "metadata": {
    "scrolled": false,
    "slideshow": {
     "slide_type": "fragment"
    }
   },
   "outputs": [
    {
     "data": {
      "text/html": [
       "<div>\n",
       "<style scoped>\n",
       "    .dataframe tbody tr th:only-of-type {\n",
       "        vertical-align: middle;\n",
       "    }\n",
       "\n",
       "    .dataframe tbody tr th {\n",
       "        vertical-align: top;\n",
       "    }\n",
       "\n",
       "    .dataframe thead th {\n",
       "        text-align: right;\n",
       "    }\n",
       "</style>\n",
       "<table border=\"1\" class=\"dataframe\">\n",
       "  <thead>\n",
       "    <tr style=\"text-align: right;\">\n",
       "      <th></th>\n",
       "      <th>Timestamp</th>\n",
       "      <th>What is your height (in cm)?</th>\n",
       "      <th>What is the average height of the people in this room (in cm)?</th>\n",
       "      <th>How fast does human hair grow (cm/yr)?</th>\n",
       "      <th>If every living person stood crammed together side-by-side, how large of an area would they occupy (km²)?</th>\n",
       "      <th>How many days would it take to walk from here to New York City (assuming no stopping to fix shoes, apply sunscreen, or for sleeping, eating, or other biological needs)?</th>\n",
       "    </tr>\n",
       "  </thead>\n",
       "  <tbody>\n",
       "    <tr>\n",
       "      <th>0</th>\n",
       "      <td>1/23/2020 9:18:26</td>\n",
       "      <td>150</td>\n",
       "      <td>170</td>\n",
       "      <td>10</td>\n",
       "      <td>6000</td>\n",
       "      <td>lots</td>\n",
       "    </tr>\n",
       "    <tr>\n",
       "      <th>1</th>\n",
       "      <td>1/23/2020 9:18:32</td>\n",
       "      <td>150</td>\n",
       "      <td>125</td>\n",
       "      <td>10</td>\n",
       "      <td>10000</td>\n",
       "      <td>200</td>\n",
       "    </tr>\n",
       "    <tr>\n",
       "      <th>2</th>\n",
       "      <td>1/23/2020 9:18:40</td>\n",
       "      <td>173.5</td>\n",
       "      <td>168</td>\n",
       "      <td>8</td>\n",
       "      <td>1000000</td>\n",
       "      <td>22</td>\n",
       "    </tr>\n",
       "    <tr>\n",
       "      <th>3</th>\n",
       "      <td>1/23/2020 9:18:54</td>\n",
       "      <td>178cm</td>\n",
       "      <td>169cm</td>\n",
       "      <td>15cm/yr</td>\n",
       "      <td>0.2</td>\n",
       "      <td>90</td>\n",
       "    </tr>\n",
       "    <tr>\n",
       "      <th>4</th>\n",
       "      <td>1/23/2020 9:18:57</td>\n",
       "      <td>155</td>\n",
       "      <td>140</td>\n",
       "      <td>36</td>\n",
       "      <td>12</td>\n",
       "      <td>365</td>\n",
       "    </tr>\n",
       "    <tr>\n",
       "      <th>5</th>\n",
       "      <td>1/23/2020 9:18:58</td>\n",
       "      <td>158</td>\n",
       "      <td>170</td>\n",
       "      <td>20</td>\n",
       "      <td>10000</td>\n",
       "      <td>213</td>\n",
       "    </tr>\n",
       "    <tr>\n",
       "      <th>6</th>\n",
       "      <td>1/23/2020 9:18:58</td>\n",
       "      <td>165</td>\n",
       "      <td>173</td>\n",
       "      <td>4</td>\n",
       "      <td>100000</td>\n",
       "      <td>30</td>\n",
       "    </tr>\n",
       "    <tr>\n",
       "      <th>7</th>\n",
       "      <td>1/23/2020 9:19:02</td>\n",
       "      <td>166</td>\n",
       "      <td>170</td>\n",
       "      <td>15</td>\n",
       "      <td>2500</td>\n",
       "      <td>25</td>\n",
       "    </tr>\n",
       "    <tr>\n",
       "      <th>8</th>\n",
       "      <td>1/23/2020 9:19:04</td>\n",
       "      <td>176</td>\n",
       "      <td>170</td>\n",
       "      <td>20/</td>\n",
       "      <td>20</td>\n",
       "      <td>400</td>\n",
       "    </tr>\n",
       "    <tr>\n",
       "      <th>9</th>\n",
       "      <td>1/23/2020 9:19:06</td>\n",
       "      <td>178</td>\n",
       "      <td>178</td>\n",
       "      <td>30</td>\n",
       "      <td>1000</td>\n",
       "      <td>500</td>\n",
       "    </tr>\n",
       "    <tr>\n",
       "      <th>10</th>\n",
       "      <td>1/23/2020 9:19:06</td>\n",
       "      <td>170.1</td>\n",
       "      <td>180</td>\n",
       "      <td>30</td>\n",
       "      <td>100000</td>\n",
       "      <td>60 days</td>\n",
       "    </tr>\n",
       "    <tr>\n",
       "      <th>11</th>\n",
       "      <td>1/23/2020 9:19:07</td>\n",
       "      <td>182</td>\n",
       "      <td>160</td>\n",
       "      <td>10</td>\n",
       "      <td>5</td>\n",
       "      <td>1 year</td>\n",
       "    </tr>\n",
       "    <tr>\n",
       "      <th>12</th>\n",
       "      <td>1/23/2020 9:19:08</td>\n",
       "      <td>165</td>\n",
       "      <td>173</td>\n",
       "      <td>60</td>\n",
       "      <td>100</td>\n",
       "      <td>5</td>\n",
       "    </tr>\n",
       "    <tr>\n",
       "      <th>13</th>\n",
       "      <td>1/23/2020 9:19:10</td>\n",
       "      <td>166</td>\n",
       "      <td>175</td>\n",
       "      <td>10</td>\n",
       "      <td>10000</td>\n",
       "      <td>100</td>\n",
       "    </tr>\n",
       "    <tr>\n",
       "      <th>14</th>\n",
       "      <td>1/23/2020 9:19:14</td>\n",
       "      <td>160</td>\n",
       "      <td>175</td>\n",
       "      <td>10</td>\n",
       "      <td>400</td>\n",
       "      <td>180</td>\n",
       "    </tr>\n",
       "    <tr>\n",
       "      <th>15</th>\n",
       "      <td>1/23/2020 9:19:15</td>\n",
       "      <td>150</td>\n",
       "      <td>200</td>\n",
       "      <td>15</td>\n",
       "      <td>1000000</td>\n",
       "      <td>100</td>\n",
       "    </tr>\n",
       "    <tr>\n",
       "      <th>16</th>\n",
       "      <td>1/23/2020 9:19:22</td>\n",
       "      <td>120</td>\n",
       "      <td>130</td>\n",
       "      <td>12</td>\n",
       "      <td>145</td>\n",
       "      <td>65</td>\n",
       "    </tr>\n",
       "    <tr>\n",
       "      <th>17</th>\n",
       "      <td>1/23/2020 9:19:28</td>\n",
       "      <td>150</td>\n",
       "      <td>170</td>\n",
       "      <td>10</td>\n",
       "      <td>100 000</td>\n",
       "      <td>100</td>\n",
       "    </tr>\n",
       "    <tr>\n",
       "      <th>18</th>\n",
       "      <td>1/23/2020 9:19:38</td>\n",
       "      <td>170</td>\n",
       "      <td>1x10^2 cm</td>\n",
       "      <td>10cm/yr</td>\n",
       "      <td>1x10^10 km^2</td>\n",
       "      <td>10^3</td>\n",
       "    </tr>\n",
       "    <tr>\n",
       "      <th>19</th>\n",
       "      <td>1/23/2020 9:19:43</td>\n",
       "      <td>162</td>\n",
       "      <td>172</td>\n",
       "      <td>152</td>\n",
       "      <td>1</td>\n",
       "      <td>100</td>\n",
       "    </tr>\n",
       "    <tr>\n",
       "      <th>20</th>\n",
       "      <td>1/23/2020 9:19:47</td>\n",
       "      <td>175</td>\n",
       "      <td>170</td>\n",
       "      <td>15</td>\n",
       "      <td>500</td>\n",
       "      <td>600</td>\n",
       "    </tr>\n",
       "    <tr>\n",
       "      <th>21</th>\n",
       "      <td>1/23/2020 9:19:49</td>\n",
       "      <td>162.56</td>\n",
       "      <td>164</td>\n",
       "      <td>25cm/yr</td>\n",
       "      <td>50</td>\n",
       "      <td>75 days</td>\n",
       "    </tr>\n",
       "    <tr>\n",
       "      <th>22</th>\n",
       "      <td>1/23/2020 9:19:53</td>\n",
       "      <td>180</td>\n",
       "      <td>175</td>\n",
       "      <td>100</td>\n",
       "      <td>100000000</td>\n",
       "      <td>100</td>\n",
       "    </tr>\n",
       "    <tr>\n",
       "      <th>23</th>\n",
       "      <td>1/23/2020 9:19:55</td>\n",
       "      <td>62</td>\n",
       "      <td>65</td>\n",
       "      <td>4/yr</td>\n",
       "      <td>54</td>\n",
       "      <td>60</td>\n",
       "    </tr>\n",
       "    <tr>\n",
       "      <th>24</th>\n",
       "      <td>1/23/2020 9:20:01</td>\n",
       "      <td>175</td>\n",
       "      <td>165</td>\n",
       "      <td>6</td>\n",
       "      <td>1</td>\n",
       "      <td>20</td>\n",
       "    </tr>\n",
       "    <tr>\n",
       "      <th>25</th>\n",
       "      <td>1/23/2020 9:20:03</td>\n",
       "      <td>157</td>\n",
       "      <td>170</td>\n",
       "      <td>30</td>\n",
       "      <td>100</td>\n",
       "      <td>21</td>\n",
       "    </tr>\n",
       "    <tr>\n",
       "      <th>26</th>\n",
       "      <td>1/23/2020 9:20:06</td>\n",
       "      <td>183</td>\n",
       "      <td>170</td>\n",
       "      <td>10</td>\n",
       "      <td>900</td>\n",
       "      <td>180</td>\n",
       "    </tr>\n",
       "    <tr>\n",
       "      <th>27</th>\n",
       "      <td>1/23/2020 9:20:15</td>\n",
       "      <td>190</td>\n",
       "      <td>175</td>\n",
       "      <td>50</td>\n",
       "      <td>1</td>\n",
       "      <td>180</td>\n",
       "    </tr>\n",
       "    <tr>\n",
       "      <th>28</th>\n",
       "      <td>1/23/2020 9:20:19</td>\n",
       "      <td>180</td>\n",
       "      <td>180</td>\n",
       "      <td>40</td>\n",
       "      <td>10</td>\n",
       "      <td>20</td>\n",
       "    </tr>\n",
       "    <tr>\n",
       "      <th>29</th>\n",
       "      <td>1/23/2020 9:20:27</td>\n",
       "      <td>150</td>\n",
       "      <td>160</td>\n",
       "      <td>10</td>\n",
       "      <td>1000000</td>\n",
       "      <td>30</td>\n",
       "    </tr>\n",
       "    <tr>\n",
       "      <th>...</th>\n",
       "      <td>...</td>\n",
       "      <td>...</td>\n",
       "      <td>...</td>\n",
       "      <td>...</td>\n",
       "      <td>...</td>\n",
       "      <td>...</td>\n",
       "    </tr>\n",
       "    <tr>\n",
       "      <th>46</th>\n",
       "      <td>1/23/2020 9:31:19</td>\n",
       "      <td>171</td>\n",
       "      <td>173</td>\n",
       "      <td>20</td>\n",
       "      <td>10000</td>\n",
       "      <td>180</td>\n",
       "    </tr>\n",
       "    <tr>\n",
       "      <th>47</th>\n",
       "      <td>1/23/2020 9:36:06</td>\n",
       "      <td>210</td>\n",
       "      <td>180</td>\n",
       "      <td>7</td>\n",
       "      <td>100</td>\n",
       "      <td>20</td>\n",
       "    </tr>\n",
       "    <tr>\n",
       "      <th>48</th>\n",
       "      <td>1/23/2020 9:36:11</td>\n",
       "      <td>172</td>\n",
       "      <td>165</td>\n",
       "      <td>1.5</td>\n",
       "      <td>5000</td>\n",
       "      <td>7</td>\n",
       "    </tr>\n",
       "    <tr>\n",
       "      <th>49</th>\n",
       "      <td>1/23/2020 9:36:16</td>\n",
       "      <td>142 cm</td>\n",
       "      <td>165 cm</td>\n",
       "      <td>144 cm</td>\n",
       "      <td>7.5 x 10^6 km</td>\n",
       "      <td>488</td>\n",
       "    </tr>\n",
       "    <tr>\n",
       "      <th>50</th>\n",
       "      <td>1/23/2020 9:36:44</td>\n",
       "      <td>162</td>\n",
       "      <td>162</td>\n",
       "      <td>20</td>\n",
       "      <td>7200000</td>\n",
       "      <td>200</td>\n",
       "    </tr>\n",
       "    <tr>\n",
       "      <th>51</th>\n",
       "      <td>1/23/2020 9:43:52</td>\n",
       "      <td>165</td>\n",
       "      <td>162.25</td>\n",
       "      <td>40</td>\n",
       "      <td>5,000</td>\n",
       "      <td>36</td>\n",
       "    </tr>\n",
       "    <tr>\n",
       "      <th>52</th>\n",
       "      <td>1/23/2020 9:46:05</td>\n",
       "      <td>168</td>\n",
       "      <td>170</td>\n",
       "      <td>50</td>\n",
       "      <td>1500</td>\n",
       "      <td>680</td>\n",
       "    </tr>\n",
       "    <tr>\n",
       "      <th>53</th>\n",
       "      <td>1/23/2020 9:46:06</td>\n",
       "      <td>157 cm</td>\n",
       "      <td>165cm</td>\n",
       "      <td>60 cm/ye</td>\n",
       "      <td>1000 km^2</td>\n",
       "      <td>50 days</td>\n",
       "    </tr>\n",
       "    <tr>\n",
       "      <th>54</th>\n",
       "      <td>1/23/2020 9:49:25</td>\n",
       "      <td>162</td>\n",
       "      <td>170</td>\n",
       "      <td>12</td>\n",
       "      <td>500000</td>\n",
       "      <td>100</td>\n",
       "    </tr>\n",
       "    <tr>\n",
       "      <th>55</th>\n",
       "      <td>1/23/2020 9:51:11</td>\n",
       "      <td>154.94</td>\n",
       "      <td>170.18</td>\n",
       "      <td>50</td>\n",
       "      <td>1000</td>\n",
       "      <td>30</td>\n",
       "    </tr>\n",
       "    <tr>\n",
       "      <th>56</th>\n",
       "      <td>1/23/2020 9:54:07</td>\n",
       "      <td>173</td>\n",
       "      <td>173</td>\n",
       "      <td>60</td>\n",
       "      <td>1400</td>\n",
       "      <td>400</td>\n",
       "    </tr>\n",
       "    <tr>\n",
       "      <th>57</th>\n",
       "      <td>1/23/2020 9:58:49</td>\n",
       "      <td>170</td>\n",
       "      <td>170</td>\n",
       "      <td>100</td>\n",
       "      <td>100000</td>\n",
       "      <td>100</td>\n",
       "    </tr>\n",
       "    <tr>\n",
       "      <th>58</th>\n",
       "      <td>1/23/2020 10:03:56</td>\n",
       "      <td>170</td>\n",
       "      <td>160</td>\n",
       "      <td>3</td>\n",
       "      <td>550</td>\n",
       "      <td>60</td>\n",
       "    </tr>\n",
       "    <tr>\n",
       "      <th>59</th>\n",
       "      <td>1/23/2020 10:06:55</td>\n",
       "      <td>170</td>\n",
       "      <td>160</td>\n",
       "      <td>30</td>\n",
       "      <td>130</td>\n",
       "      <td>100</td>\n",
       "    </tr>\n",
       "    <tr>\n",
       "      <th>60</th>\n",
       "      <td>1/23/2020 10:08:30</td>\n",
       "      <td>185</td>\n",
       "      <td>150</td>\n",
       "      <td>20</td>\n",
       "      <td>0.01</td>\n",
       "      <td>100</td>\n",
       "    </tr>\n",
       "    <tr>\n",
       "      <th>61</th>\n",
       "      <td>1/23/2020 10:15:52</td>\n",
       "      <td>180</td>\n",
       "      <td>170</td>\n",
       "      <td>300</td>\n",
       "      <td>700000</td>\n",
       "      <td>300</td>\n",
       "    </tr>\n",
       "    <tr>\n",
       "      <th>62</th>\n",
       "      <td>1/23/2020 10:25:20</td>\n",
       "      <td>172</td>\n",
       "      <td>165</td>\n",
       "      <td>15</td>\n",
       "      <td>3 million km^2</td>\n",
       "      <td>45 days</td>\n",
       "    </tr>\n",
       "    <tr>\n",
       "      <th>63</th>\n",
       "      <td>1/23/2020 10:27:24</td>\n",
       "      <td>200</td>\n",
       "      <td>200</td>\n",
       "      <td>0.01</td>\n",
       "      <td>10000000</td>\n",
       "      <td>60</td>\n",
       "    </tr>\n",
       "    <tr>\n",
       "      <th>64</th>\n",
       "      <td>1/23/2020 10:36:56</td>\n",
       "      <td>187</td>\n",
       "      <td>173</td>\n",
       "      <td>20</td>\n",
       "      <td>5000</td>\n",
       "      <td>6</td>\n",
       "    </tr>\n",
       "    <tr>\n",
       "      <th>65</th>\n",
       "      <td>1/23/2020 11:03:04</td>\n",
       "      <td>175</td>\n",
       "      <td>160</td>\n",
       "      <td>15</td>\n",
       "      <td>10</td>\n",
       "      <td>35</td>\n",
       "    </tr>\n",
       "    <tr>\n",
       "      <th>66</th>\n",
       "      <td>1/23/2020 11:07:58</td>\n",
       "      <td>184</td>\n",
       "      <td>175</td>\n",
       "      <td>30</td>\n",
       "      <td>10</td>\n",
       "      <td>100</td>\n",
       "    </tr>\n",
       "    <tr>\n",
       "      <th>67</th>\n",
       "      <td>1/23/2020 11:14:24</td>\n",
       "      <td>164</td>\n",
       "      <td>175</td>\n",
       "      <td>15</td>\n",
       "      <td>20000</td>\n",
       "      <td>38 days</td>\n",
       "    </tr>\n",
       "    <tr>\n",
       "      <th>68</th>\n",
       "      <td>1/23/2020 11:16:49</td>\n",
       "      <td>159</td>\n",
       "      <td>172</td>\n",
       "      <td>9cm/yr</td>\n",
       "      <td>700km²</td>\n",
       "      <td>30 days</td>\n",
       "    </tr>\n",
       "    <tr>\n",
       "      <th>69</th>\n",
       "      <td>1/23/2020 11:20:31</td>\n",
       "      <td>169</td>\n",
       "      <td>160</td>\n",
       "      <td>5</td>\n",
       "      <td>20</td>\n",
       "      <td>5 days</td>\n",
       "    </tr>\n",
       "    <tr>\n",
       "      <th>70</th>\n",
       "      <td>1/23/2020 11:28:25</td>\n",
       "      <td>160</td>\n",
       "      <td>165</td>\n",
       "      <td>10</td>\n",
       "      <td>10000</td>\n",
       "      <td>40</td>\n",
       "    </tr>\n",
       "    <tr>\n",
       "      <th>71</th>\n",
       "      <td>1/23/2020 11:35:30</td>\n",
       "      <td>177.8</td>\n",
       "      <td>160</td>\n",
       "      <td>15</td>\n",
       "      <td>4000</td>\n",
       "      <td>4 months</td>\n",
       "    </tr>\n",
       "    <tr>\n",
       "      <th>72</th>\n",
       "      <td>1/23/2020 11:38:26</td>\n",
       "      <td>185</td>\n",
       "      <td>168</td>\n",
       "      <td>30</td>\n",
       "      <td>1000</td>\n",
       "      <td>100</td>\n",
       "    </tr>\n",
       "    <tr>\n",
       "      <th>73</th>\n",
       "      <td>1/23/2020 11:39:13</td>\n",
       "      <td>170.18</td>\n",
       "      <td>168.91</td>\n",
       "      <td>15.24</td>\n",
       "      <td>2723000000</td>\n",
       "      <td>38</td>\n",
       "    </tr>\n",
       "    <tr>\n",
       "      <th>74</th>\n",
       "      <td>1/23/2020 11:48:00</td>\n",
       "      <td>180.34</td>\n",
       "      <td>172.72</td>\n",
       "      <td>15.24</td>\n",
       "      <td>285,750 (km^2)</td>\n",
       "      <td>40</td>\n",
       "    </tr>\n",
       "    <tr>\n",
       "      <th>75</th>\n",
       "      <td>1/23/2020 12:44:21</td>\n",
       "      <td>163</td>\n",
       "      <td>175</td>\n",
       "      <td>30cm/yr</td>\n",
       "      <td>1500km^2</td>\n",
       "      <td>350 days</td>\n",
       "    </tr>\n",
       "  </tbody>\n",
       "</table>\n",
       "<p>76 rows × 6 columns</p>\n",
       "</div>"
      ],
      "text/plain": [
       "             Timestamp What is your height (in cm)?  \\\n",
       "0    1/23/2020 9:18:26                          150   \n",
       "1    1/23/2020 9:18:32                          150   \n",
       "2    1/23/2020 9:18:40                        173.5   \n",
       "3    1/23/2020 9:18:54                        178cm   \n",
       "4    1/23/2020 9:18:57                          155   \n",
       "5    1/23/2020 9:18:58                          158   \n",
       "6    1/23/2020 9:18:58                          165   \n",
       "7    1/23/2020 9:19:02                          166   \n",
       "8    1/23/2020 9:19:04                          176   \n",
       "9    1/23/2020 9:19:06                          178   \n",
       "10   1/23/2020 9:19:06                        170.1   \n",
       "11   1/23/2020 9:19:07                          182   \n",
       "12   1/23/2020 9:19:08                          165   \n",
       "13   1/23/2020 9:19:10                          166   \n",
       "14   1/23/2020 9:19:14                          160   \n",
       "15   1/23/2020 9:19:15                          150   \n",
       "16   1/23/2020 9:19:22                          120   \n",
       "17   1/23/2020 9:19:28                          150   \n",
       "18   1/23/2020 9:19:38                          170   \n",
       "19   1/23/2020 9:19:43                          162   \n",
       "20   1/23/2020 9:19:47                          175   \n",
       "21   1/23/2020 9:19:49                       162.56   \n",
       "22   1/23/2020 9:19:53                          180   \n",
       "23   1/23/2020 9:19:55                           62   \n",
       "24   1/23/2020 9:20:01                          175   \n",
       "25   1/23/2020 9:20:03                          157   \n",
       "26   1/23/2020 9:20:06                          183   \n",
       "27   1/23/2020 9:20:15                          190   \n",
       "28   1/23/2020 9:20:19                          180   \n",
       "29   1/23/2020 9:20:27                          150   \n",
       "..                 ...                          ...   \n",
       "46   1/23/2020 9:31:19                          171   \n",
       "47   1/23/2020 9:36:06                          210   \n",
       "48   1/23/2020 9:36:11                          172   \n",
       "49   1/23/2020 9:36:16                      142 cm    \n",
       "50   1/23/2020 9:36:44                          162   \n",
       "51   1/23/2020 9:43:52                          165   \n",
       "52   1/23/2020 9:46:05                          168   \n",
       "53   1/23/2020 9:46:06                       157 cm   \n",
       "54   1/23/2020 9:49:25                          162   \n",
       "55   1/23/2020 9:51:11                       154.94   \n",
       "56   1/23/2020 9:54:07                          173   \n",
       "57   1/23/2020 9:58:49                          170   \n",
       "58  1/23/2020 10:03:56                          170   \n",
       "59  1/23/2020 10:06:55                          170   \n",
       "60  1/23/2020 10:08:30                          185   \n",
       "61  1/23/2020 10:15:52                          180   \n",
       "62  1/23/2020 10:25:20                          172   \n",
       "63  1/23/2020 10:27:24                          200   \n",
       "64  1/23/2020 10:36:56                          187   \n",
       "65  1/23/2020 11:03:04                          175   \n",
       "66  1/23/2020 11:07:58                          184   \n",
       "67  1/23/2020 11:14:24                          164   \n",
       "68  1/23/2020 11:16:49                          159   \n",
       "69  1/23/2020 11:20:31                          169   \n",
       "70  1/23/2020 11:28:25                          160   \n",
       "71  1/23/2020 11:35:30                        177.8   \n",
       "72  1/23/2020 11:38:26                          185   \n",
       "73  1/23/2020 11:39:13                       170.18   \n",
       "74  1/23/2020 11:48:00                       180.34   \n",
       "75  1/23/2020 12:44:21                          163   \n",
       "\n",
       "   What is the average height of the people in this room (in cm)?  \\\n",
       "0                                                 170               \n",
       "1                                                 125               \n",
       "2                                                 168               \n",
       "3                                               169cm               \n",
       "4                                                 140               \n",
       "5                                                 170               \n",
       "6                                                 173               \n",
       "7                                                 170               \n",
       "8                                                 170               \n",
       "9                                                 178               \n",
       "10                                                180               \n",
       "11                                                160               \n",
       "12                                                173               \n",
       "13                                                175               \n",
       "14                                                175               \n",
       "15                                                200               \n",
       "16                                                130               \n",
       "17                                                170               \n",
       "18                                          1x10^2 cm               \n",
       "19                                                172               \n",
       "20                                                170               \n",
       "21                                                164               \n",
       "22                                                175               \n",
       "23                                                 65               \n",
       "24                                                165               \n",
       "25                                                170               \n",
       "26                                                170               \n",
       "27                                                175               \n",
       "28                                                180               \n",
       "29                                                160               \n",
       "..                                                ...               \n",
       "46                                                173               \n",
       "47                                                180               \n",
       "48                                                165               \n",
       "49                                            165 cm                \n",
       "50                                                162               \n",
       "51                                             162.25               \n",
       "52                                                170               \n",
       "53                                              165cm               \n",
       "54                                                170               \n",
       "55                                             170.18               \n",
       "56                                                173               \n",
       "57                                                170               \n",
       "58                                                160               \n",
       "59                                                160               \n",
       "60                                                150               \n",
       "61                                                170               \n",
       "62                                                165               \n",
       "63                                                200               \n",
       "64                                                173               \n",
       "65                                                160               \n",
       "66                                                175               \n",
       "67                                                175               \n",
       "68                                                172               \n",
       "69                                                160               \n",
       "70                                                165               \n",
       "71                                                160               \n",
       "72                                                168               \n",
       "73                                             168.91               \n",
       "74                                             172.72               \n",
       "75                                                175               \n",
       "\n",
       "   How fast does human hair grow (cm/yr)?  \\\n",
       "0                                      10   \n",
       "1                                      10   \n",
       "2                                       8   \n",
       "3                                 15cm/yr   \n",
       "4                                      36   \n",
       "5                                      20   \n",
       "6                                       4   \n",
       "7                                      15   \n",
       "8                                     20/   \n",
       "9                                      30   \n",
       "10                                     30   \n",
       "11                                     10   \n",
       "12                                     60   \n",
       "13                                     10   \n",
       "14                                     10   \n",
       "15                                     15   \n",
       "16                                     12   \n",
       "17                                     10   \n",
       "18                                10cm/yr   \n",
       "19                                    152   \n",
       "20                                     15   \n",
       "21                                25cm/yr   \n",
       "22                                    100   \n",
       "23                                   4/yr   \n",
       "24                                      6   \n",
       "25                                     30   \n",
       "26                                     10   \n",
       "27                                     50   \n",
       "28                                     40   \n",
       "29                                     10   \n",
       "..                                    ...   \n",
       "46                                     20   \n",
       "47                                      7   \n",
       "48                                    1.5   \n",
       "49                                144 cm    \n",
       "50                                     20   \n",
       "51                                     40   \n",
       "52                                     50   \n",
       "53                               60 cm/ye   \n",
       "54                                     12   \n",
       "55                                     50   \n",
       "56                                     60   \n",
       "57                                    100   \n",
       "58                                      3   \n",
       "59                                     30   \n",
       "60                                     20   \n",
       "61                                    300   \n",
       "62                                     15   \n",
       "63                                   0.01   \n",
       "64                                     20   \n",
       "65                                     15   \n",
       "66                                     30   \n",
       "67                                     15   \n",
       "68                                 9cm/yr   \n",
       "69                                      5   \n",
       "70                                     10   \n",
       "71                                     15   \n",
       "72                                     30   \n",
       "73                                  15.24   \n",
       "74                                  15.24   \n",
       "75                                30cm/yr   \n",
       "\n",
       "   If every living person stood crammed together side-by-side, how large of an area would they occupy (km²)?  \\\n",
       "0                                                6000                                                          \n",
       "1                                               10000                                                          \n",
       "2                                             1000000                                                          \n",
       "3                                                 0.2                                                          \n",
       "4                                                  12                                                          \n",
       "5                                               10000                                                          \n",
       "6                                              100000                                                          \n",
       "7                                                2500                                                          \n",
       "8                                                  20                                                          \n",
       "9                                                1000                                                          \n",
       "10                                             100000                                                          \n",
       "11                                                  5                                                          \n",
       "12                                                100                                                          \n",
       "13                                              10000                                                          \n",
       "14                                                400                                                          \n",
       "15                                            1000000                                                          \n",
       "16                                                145                                                          \n",
       "17                                            100 000                                                          \n",
       "18                                       1x10^10 km^2                                                          \n",
       "19                                                  1                                                          \n",
       "20                                                500                                                          \n",
       "21                                                 50                                                          \n",
       "22                                          100000000                                                          \n",
       "23                                                 54                                                          \n",
       "24                                                  1                                                          \n",
       "25                                                100                                                          \n",
       "26                                                900                                                          \n",
       "27                                                  1                                                          \n",
       "28                                                 10                                                          \n",
       "29                                            1000000                                                          \n",
       "..                                                ...                                                          \n",
       "46                                              10000                                                          \n",
       "47                                                100                                                          \n",
       "48                                               5000                                                          \n",
       "49                                     7.5 x 10^6 km                                                           \n",
       "50                                            7200000                                                          \n",
       "51                                              5,000                                                          \n",
       "52                                               1500                                                          \n",
       "53                                          1000 km^2                                                          \n",
       "54                                             500000                                                          \n",
       "55                                               1000                                                          \n",
       "56                                               1400                                                          \n",
       "57                                             100000                                                          \n",
       "58                                                550                                                          \n",
       "59                                                130                                                          \n",
       "60                                               0.01                                                          \n",
       "61                                             700000                                                          \n",
       "62                                     3 million km^2                                                          \n",
       "63                                           10000000                                                          \n",
       "64                                               5000                                                          \n",
       "65                                                 10                                                          \n",
       "66                                                 10                                                          \n",
       "67                                              20000                                                          \n",
       "68                                             700km²                                                          \n",
       "69                                                 20                                                          \n",
       "70                                              10000                                                          \n",
       "71                                               4000                                                          \n",
       "72                                               1000                                                          \n",
       "73                                         2723000000                                                          \n",
       "74                                     285,750 (km^2)                                                          \n",
       "75                                           1500km^2                                                          \n",
       "\n",
       "   How many days would it take to walk from here to New York City (assuming no stopping to fix shoes, apply sunscreen, or for sleeping, eating, or other biological needs)?  \n",
       "0                                                lots                                                                                                                        \n",
       "1                                                 200                                                                                                                        \n",
       "2                                                  22                                                                                                                        \n",
       "3                                                  90                                                                                                                        \n",
       "4                                                 365                                                                                                                        \n",
       "5                                                 213                                                                                                                        \n",
       "6                                                  30                                                                                                                        \n",
       "7                                                  25                                                                                                                        \n",
       "8                                                 400                                                                                                                        \n",
       "9                                                 500                                                                                                                        \n",
       "10                                            60 days                                                                                                                        \n",
       "11                                             1 year                                                                                                                        \n",
       "12                                                  5                                                                                                                        \n",
       "13                                                100                                                                                                                        \n",
       "14                                                180                                                                                                                        \n",
       "15                                                100                                                                                                                        \n",
       "16                                                 65                                                                                                                        \n",
       "17                                                100                                                                                                                        \n",
       "18                                               10^3                                                                                                                        \n",
       "19                                                100                                                                                                                        \n",
       "20                                                600                                                                                                                        \n",
       "21                                            75 days                                                                                                                        \n",
       "22                                                100                                                                                                                        \n",
       "23                                                 60                                                                                                                        \n",
       "24                                                 20                                                                                                                        \n",
       "25                                                 21                                                                                                                        \n",
       "26                                                180                                                                                                                        \n",
       "27                                                180                                                                                                                        \n",
       "28                                                 20                                                                                                                        \n",
       "29                                                 30                                                                                                                        \n",
       "..                                                ...                                                                                                                        \n",
       "46                                                180                                                                                                                        \n",
       "47                                                 20                                                                                                                        \n",
       "48                                                  7                                                                                                                        \n",
       "49                                                488                                                                                                                        \n",
       "50                                                200                                                                                                                        \n",
       "51                                                 36                                                                                                                        \n",
       "52                                                680                                                                                                                        \n",
       "53                                            50 days                                                                                                                        \n",
       "54                                                100                                                                                                                        \n",
       "55                                                 30                                                                                                                        \n",
       "56                                                400                                                                                                                        \n",
       "57                                                100                                                                                                                        \n",
       "58                                                 60                                                                                                                        \n",
       "59                                                100                                                                                                                        \n",
       "60                                                100                                                                                                                        \n",
       "61                                                300                                                                                                                        \n",
       "62                                            45 days                                                                                                                        \n",
       "63                                                 60                                                                                                                        \n",
       "64                                                  6                                                                                                                        \n",
       "65                                                 35                                                                                                                        \n",
       "66                                                100                                                                                                                        \n",
       "67                                            38 days                                                                                                                        \n",
       "68                                            30 days                                                                                                                        \n",
       "69                                             5 days                                                                                                                        \n",
       "70                                                 40                                                                                                                        \n",
       "71                                           4 months                                                                                                                        \n",
       "72                                                100                                                                                                                        \n",
       "73                                                 38                                                                                                                        \n",
       "74                                                 40                                                                                                                        \n",
       "75                                           350 days                                                                                                                        \n",
       "\n",
       "[76 rows x 6 columns]"
      ]
     },
     "execution_count": 3,
     "metadata": {},
     "output_type": "execute_result"
    }
   ],
   "source": [
    "# take a look at the data\n",
    "df"
   ]
  },
  {
   "cell_type": "code",
   "execution_count": 4,
   "metadata": {},
   "outputs": [
    {
     "data": {
      "text/plain": [
       "Timestamp                                                                                                                                                                   1/23/2020 9:24:41\n",
       "What is your height (in cm)?                                                                                                                                                              165\n",
       "What is the average height of the people in this room (in cm)?                                                                                                                            180\n",
       "How fast does human hair grow (cm/yr)?                                                                                                                                                     20\n",
       "If every living person stood crammed together side-by-side, how large of an area would they occupy (km²)?                                                                         290,000,000\n",
       "How many days would it take to walk from here to New York City (assuming no stopping to fix shoes, apply sunscreen, or for sleeping, eating, or other biological needs)?                   30\n",
       "Name: 39, dtype: object"
      ]
     },
     "execution_count": 4,
     "metadata": {},
     "output_type": "execute_result"
    }
   ],
   "source": [
    "# how does pandas handle commas?\n",
    "df.iloc[39,:]"
   ]
  },
  {
   "cell_type": "markdown",
   "metadata": {
    "slideshow": {
     "slide_type": "slide"
    }
   },
   "source": [
    "## Data Cleaning & Wrangling\n",
    "\n",
    "Tidy Data Rules (Review):\n",
    "1. Every observation in a row\n",
    "2. Every variable in a column\n",
    "3. If multiple tables, column on which to merge"
   ]
  },
  {
   "cell_type": "markdown",
   "metadata": {
    "slideshow": {
     "slide_type": "slide"
    }
   },
   "source": [
    "### iClicker Question #1\n",
    "\n",
    "Are these data in the tidy data format?\n",
    "\n",
    "- A) Yes, these data are ready to analyze\n",
    "- B) Yes, but there is more work to do before analysis\n",
    "- C) No, not tidy\n",
    "- D) Have no idea what you're talking about"
   ]
  },
  {
   "cell_type": "markdown",
   "metadata": {
    "slideshow": {
     "slide_type": "slide"
    }
   },
   "source": [
    "## Brainstorming\n",
    "\n",
    "What considerations do we have to make about these data?\n",
    "\n",
    "- handling non-numeric answers (i.e. \"lots\")\n",
    "- handle units in answer\n",
    "- unreasonably large/small number (outliers)? (not thoughtful, or joking)\n",
    "- scientific notation"
   ]
  },
  {
   "cell_type": "code",
   "execution_count": 5,
   "metadata": {
    "scrolled": true,
    "slideshow": {
     "slide_type": "slide"
    }
   },
   "outputs": [
    {
     "data": {
      "text/html": [
       "<div>\n",
       "<style scoped>\n",
       "    .dataframe tbody tr th:only-of-type {\n",
       "        vertical-align: middle;\n",
       "    }\n",
       "\n",
       "    .dataframe tbody tr th {\n",
       "        vertical-align: top;\n",
       "    }\n",
       "\n",
       "    .dataframe thead th {\n",
       "        text-align: right;\n",
       "    }\n",
       "</style>\n",
       "<table border=\"1\" class=\"dataframe\">\n",
       "  <thead>\n",
       "    <tr style=\"text-align: right;\">\n",
       "      <th></th>\n",
       "      <th>timestamp</th>\n",
       "      <th>height_ind</th>\n",
       "      <th>height_class</th>\n",
       "      <th>hair_growth</th>\n",
       "      <th>crammed</th>\n",
       "      <th>SAN_NYC</th>\n",
       "    </tr>\n",
       "  </thead>\n",
       "  <tbody>\n",
       "    <tr>\n",
       "      <th>0</th>\n",
       "      <td>1/23/2020 9:18:26</td>\n",
       "      <td>150</td>\n",
       "      <td>170</td>\n",
       "      <td>10</td>\n",
       "      <td>6000</td>\n",
       "      <td>lots</td>\n",
       "    </tr>\n",
       "    <tr>\n",
       "      <th>1</th>\n",
       "      <td>1/23/2020 9:18:32</td>\n",
       "      <td>150</td>\n",
       "      <td>125</td>\n",
       "      <td>10</td>\n",
       "      <td>10000</td>\n",
       "      <td>200</td>\n",
       "    </tr>\n",
       "    <tr>\n",
       "      <th>2</th>\n",
       "      <td>1/23/2020 9:18:40</td>\n",
       "      <td>173.5</td>\n",
       "      <td>168</td>\n",
       "      <td>8</td>\n",
       "      <td>1000000</td>\n",
       "      <td>22</td>\n",
       "    </tr>\n",
       "    <tr>\n",
       "      <th>3</th>\n",
       "      <td>1/23/2020 9:18:54</td>\n",
       "      <td>178cm</td>\n",
       "      <td>169cm</td>\n",
       "      <td>15cm/yr</td>\n",
       "      <td>0.2</td>\n",
       "      <td>90</td>\n",
       "    </tr>\n",
       "    <tr>\n",
       "      <th>4</th>\n",
       "      <td>1/23/2020 9:18:57</td>\n",
       "      <td>155</td>\n",
       "      <td>140</td>\n",
       "      <td>36</td>\n",
       "      <td>12</td>\n",
       "      <td>365</td>\n",
       "    </tr>\n",
       "  </tbody>\n",
       "</table>\n",
       "</div>"
      ],
      "text/plain": [
       "           timestamp height_ind height_class hair_growth  crammed SAN_NYC\n",
       "0  1/23/2020 9:18:26        150          170          10     6000    lots\n",
       "1  1/23/2020 9:18:32        150          125          10    10000     200\n",
       "2  1/23/2020 9:18:40      173.5          168           8  1000000      22\n",
       "3  1/23/2020 9:18:54      178cm        169cm     15cm/yr      0.2      90\n",
       "4  1/23/2020 9:18:57        155          140          36       12     365"
      ]
     },
     "execution_count": 5,
     "metadata": {},
     "output_type": "execute_result"
    }
   ],
   "source": [
    "# change column names\n",
    "df.columns = ['timestamp','height_ind', 'height_class', 'hair_growth', 'crammed', 'SAN_NYC']\n",
    "df.head()"
   ]
  },
  {
   "cell_type": "code",
   "execution_count": 6,
   "metadata": {
    "scrolled": true,
    "slideshow": {
     "slide_type": "slide"
    }
   },
   "outputs": [
    {
     "data": {
      "text/plain": [
       "timestamp       object\n",
       "height_ind      object\n",
       "height_class    object\n",
       "hair_growth     object\n",
       "crammed         object\n",
       "SAN_NYC         object\n",
       "dtype: object"
      ]
     },
     "execution_count": 6,
     "metadata": {},
     "output_type": "execute_result"
    }
   ],
   "source": [
    "# check type of each Series (column)\n",
    "df.dtypes"
   ]
  },
  {
   "cell_type": "code",
   "execution_count": 7,
   "metadata": {
    "scrolled": true,
    "slideshow": {
     "slide_type": "slide"
    }
   },
   "outputs": [
    {
     "ename": "TypeError",
     "evalue": "could not convert string to float: '178cm'",
     "output_type": "error",
     "traceback": [
      "\u001b[0;31m---------------------------------------------------------------------------\u001b[0m",
      "\u001b[0;31mValueError\u001b[0m                                Traceback (most recent call last)",
      "\u001b[0;32m/anaconda3/lib/python3.6/site-packages/pandas/core/nanops.py\u001b[0m in \u001b[0;36mf\u001b[0;34m(values, axis, skipna, **kwds)\u001b[0m\n\u001b[1;32m    126\u001b[0m                 \u001b[0;32melse\u001b[0m\u001b[0;34m:\u001b[0m\u001b[0;34m\u001b[0m\u001b[0;34m\u001b[0m\u001b[0m\n\u001b[0;32m--> 127\u001b[0;31m                     \u001b[0mresult\u001b[0m \u001b[0;34m=\u001b[0m \u001b[0malt\u001b[0m\u001b[0;34m(\u001b[0m\u001b[0mvalues\u001b[0m\u001b[0;34m,\u001b[0m \u001b[0maxis\u001b[0m\u001b[0;34m=\u001b[0m\u001b[0maxis\u001b[0m\u001b[0;34m,\u001b[0m \u001b[0mskipna\u001b[0m\u001b[0;34m=\u001b[0m\u001b[0mskipna\u001b[0m\u001b[0;34m,\u001b[0m \u001b[0;34m**\u001b[0m\u001b[0mkwds\u001b[0m\u001b[0;34m)\u001b[0m\u001b[0;34m\u001b[0m\u001b[0;34m\u001b[0m\u001b[0m\n\u001b[0m\u001b[1;32m    128\u001b[0m             \u001b[0;32mexcept\u001b[0m \u001b[0mException\u001b[0m\u001b[0;34m:\u001b[0m\u001b[0;34m\u001b[0m\u001b[0;34m\u001b[0m\u001b[0m\n",
      "\u001b[0;32m/anaconda3/lib/python3.6/site-packages/pandas/core/nanops.py\u001b[0m in \u001b[0;36mnanmedian\u001b[0;34m(values, axis, skipna, mask)\u001b[0m\n\u001b[1;32m    526\u001b[0m     \u001b[0;32mif\u001b[0m \u001b[0;32mnot\u001b[0m \u001b[0mis_float_dtype\u001b[0m\u001b[0;34m(\u001b[0m\u001b[0mvalues\u001b[0m\u001b[0;34m)\u001b[0m\u001b[0;34m:\u001b[0m\u001b[0;34m\u001b[0m\u001b[0;34m\u001b[0m\u001b[0m\n\u001b[0;32m--> 527\u001b[0;31m         \u001b[0mvalues\u001b[0m \u001b[0;34m=\u001b[0m \u001b[0mvalues\u001b[0m\u001b[0;34m.\u001b[0m\u001b[0mastype\u001b[0m\u001b[0;34m(\u001b[0m\u001b[0;34m'f8'\u001b[0m\u001b[0;34m)\u001b[0m\u001b[0;34m\u001b[0m\u001b[0;34m\u001b[0m\u001b[0m\n\u001b[0m\u001b[1;32m    528\u001b[0m         \u001b[0mvalues\u001b[0m\u001b[0;34m[\u001b[0m\u001b[0mmask\u001b[0m\u001b[0;34m]\u001b[0m \u001b[0;34m=\u001b[0m \u001b[0mnp\u001b[0m\u001b[0;34m.\u001b[0m\u001b[0mnan\u001b[0m\u001b[0;34m\u001b[0m\u001b[0;34m\u001b[0m\u001b[0m\n",
      "\u001b[0;31mValueError\u001b[0m: could not convert string to float: '178cm'",
      "\nDuring handling of the above exception, another exception occurred:\n",
      "\u001b[0;31mValueError\u001b[0m                                Traceback (most recent call last)",
      "\u001b[0;32m/anaconda3/lib/python3.6/site-packages/pandas/core/nanops.py\u001b[0m in \u001b[0;36mf\u001b[0;34m(values, axis, skipna, **kwds)\u001b[0m\n\u001b[1;32m    129\u001b[0m                 \u001b[0;32mtry\u001b[0m\u001b[0;34m:\u001b[0m\u001b[0;34m\u001b[0m\u001b[0;34m\u001b[0m\u001b[0m\n\u001b[0;32m--> 130\u001b[0;31m                     \u001b[0mresult\u001b[0m \u001b[0;34m=\u001b[0m \u001b[0malt\u001b[0m\u001b[0;34m(\u001b[0m\u001b[0mvalues\u001b[0m\u001b[0;34m,\u001b[0m \u001b[0maxis\u001b[0m\u001b[0;34m=\u001b[0m\u001b[0maxis\u001b[0m\u001b[0;34m,\u001b[0m \u001b[0mskipna\u001b[0m\u001b[0;34m=\u001b[0m\u001b[0mskipna\u001b[0m\u001b[0;34m,\u001b[0m \u001b[0;34m**\u001b[0m\u001b[0mkwds\u001b[0m\u001b[0;34m)\u001b[0m\u001b[0;34m\u001b[0m\u001b[0;34m\u001b[0m\u001b[0m\n\u001b[0m\u001b[1;32m    131\u001b[0m                 \u001b[0;32mexcept\u001b[0m \u001b[0mValueError\u001b[0m \u001b[0;32mas\u001b[0m \u001b[0me\u001b[0m\u001b[0;34m:\u001b[0m\u001b[0;34m\u001b[0m\u001b[0;34m\u001b[0m\u001b[0m\n",
      "\u001b[0;32m/anaconda3/lib/python3.6/site-packages/pandas/core/nanops.py\u001b[0m in \u001b[0;36mnanmedian\u001b[0;34m(values, axis, skipna, mask)\u001b[0m\n\u001b[1;32m    526\u001b[0m     \u001b[0;32mif\u001b[0m \u001b[0;32mnot\u001b[0m \u001b[0mis_float_dtype\u001b[0m\u001b[0;34m(\u001b[0m\u001b[0mvalues\u001b[0m\u001b[0;34m)\u001b[0m\u001b[0;34m:\u001b[0m\u001b[0;34m\u001b[0m\u001b[0;34m\u001b[0m\u001b[0m\n\u001b[0;32m--> 527\u001b[0;31m         \u001b[0mvalues\u001b[0m \u001b[0;34m=\u001b[0m \u001b[0mvalues\u001b[0m\u001b[0;34m.\u001b[0m\u001b[0mastype\u001b[0m\u001b[0;34m(\u001b[0m\u001b[0;34m'f8'\u001b[0m\u001b[0;34m)\u001b[0m\u001b[0;34m\u001b[0m\u001b[0;34m\u001b[0m\u001b[0m\n\u001b[0m\u001b[1;32m    528\u001b[0m         \u001b[0mvalues\u001b[0m\u001b[0;34m[\u001b[0m\u001b[0mmask\u001b[0m\u001b[0;34m]\u001b[0m \u001b[0;34m=\u001b[0m \u001b[0mnp\u001b[0m\u001b[0;34m.\u001b[0m\u001b[0mnan\u001b[0m\u001b[0;34m\u001b[0m\u001b[0;34m\u001b[0m\u001b[0m\n",
      "\u001b[0;31mValueError\u001b[0m: could not convert string to float: '178cm'",
      "\nDuring handling of the above exception, another exception occurred:\n",
      "\u001b[0;31mTypeError\u001b[0m                                 Traceback (most recent call last)",
      "\u001b[0;32m<ipython-input-7-b5c01596d6be>\u001b[0m in \u001b[0;36m<module>\u001b[0;34m()\u001b[0m\n\u001b[1;32m      1\u001b[0m \u001b[0;31m# this cell will produce an error\u001b[0m\u001b[0;34m\u001b[0m\u001b[0;34m\u001b[0m\u001b[0;34m\u001b[0m\u001b[0m\n\u001b[0;32m----> 2\u001b[0;31m \u001b[0mdf\u001b[0m\u001b[0;34m[\u001b[0m\u001b[0;34m'height_ind'\u001b[0m\u001b[0;34m]\u001b[0m\u001b[0;34m.\u001b[0m\u001b[0mmedian\u001b[0m\u001b[0;34m(\u001b[0m\u001b[0;34m)\u001b[0m\u001b[0;34m\u001b[0m\u001b[0;34m\u001b[0m\u001b[0m\n\u001b[0m",
      "\u001b[0;32m/anaconda3/lib/python3.6/site-packages/pandas/core/generic.py\u001b[0m in \u001b[0;36mstat_func\u001b[0;34m(self, axis, skipna, level, numeric_only, **kwargs)\u001b[0m\n\u001b[1;32m  10944\u001b[0m                                       skipna=skipna)\n\u001b[1;32m  10945\u001b[0m         return self._reduce(f, name, axis=axis, skipna=skipna,\n\u001b[0;32m> 10946\u001b[0;31m                             numeric_only=numeric_only)\n\u001b[0m\u001b[1;32m  10947\u001b[0m \u001b[0;34m\u001b[0m\u001b[0m\n\u001b[1;32m  10948\u001b[0m     \u001b[0;32mreturn\u001b[0m \u001b[0mset_function_name\u001b[0m\u001b[0;34m(\u001b[0m\u001b[0mstat_func\u001b[0m\u001b[0;34m,\u001b[0m \u001b[0mname\u001b[0m\u001b[0;34m,\u001b[0m \u001b[0mcls\u001b[0m\u001b[0;34m)\u001b[0m\u001b[0;34m\u001b[0m\u001b[0;34m\u001b[0m\u001b[0m\n",
      "\u001b[0;32m/anaconda3/lib/python3.6/site-packages/pandas/core/series.py\u001b[0m in \u001b[0;36m_reduce\u001b[0;34m(self, op, name, axis, skipna, numeric_only, filter_type, **kwds)\u001b[0m\n\u001b[1;32m   3624\u001b[0m                                           'numeric_only.'.format(name))\n\u001b[1;32m   3625\u001b[0m             \u001b[0;32mwith\u001b[0m \u001b[0mnp\u001b[0m\u001b[0;34m.\u001b[0m\u001b[0merrstate\u001b[0m\u001b[0;34m(\u001b[0m\u001b[0mall\u001b[0m\u001b[0;34m=\u001b[0m\u001b[0;34m'ignore'\u001b[0m\u001b[0;34m)\u001b[0m\u001b[0;34m:\u001b[0m\u001b[0;34m\u001b[0m\u001b[0;34m\u001b[0m\u001b[0m\n\u001b[0;32m-> 3626\u001b[0;31m                 \u001b[0;32mreturn\u001b[0m \u001b[0mop\u001b[0m\u001b[0;34m(\u001b[0m\u001b[0mdelegate\u001b[0m\u001b[0;34m,\u001b[0m \u001b[0mskipna\u001b[0m\u001b[0;34m=\u001b[0m\u001b[0mskipna\u001b[0m\u001b[0;34m,\u001b[0m \u001b[0;34m**\u001b[0m\u001b[0mkwds\u001b[0m\u001b[0;34m)\u001b[0m\u001b[0;34m\u001b[0m\u001b[0;34m\u001b[0m\u001b[0m\n\u001b[0m\u001b[1;32m   3627\u001b[0m \u001b[0;34m\u001b[0m\u001b[0m\n\u001b[1;32m   3628\u001b[0m         \u001b[0;31m# TODO(EA) dispatch to Index\u001b[0m\u001b[0;34m\u001b[0m\u001b[0;34m\u001b[0m\u001b[0;34m\u001b[0m\u001b[0m\n",
      "\u001b[0;32m/anaconda3/lib/python3.6/site-packages/pandas/core/nanops.py\u001b[0m in \u001b[0;36m_f\u001b[0;34m(*args, **kwargs)\u001b[0m\n\u001b[1;32m     74\u001b[0m             \u001b[0;32mtry\u001b[0m\u001b[0;34m:\u001b[0m\u001b[0;34m\u001b[0m\u001b[0;34m\u001b[0m\u001b[0m\n\u001b[1;32m     75\u001b[0m                 \u001b[0;32mwith\u001b[0m \u001b[0mnp\u001b[0m\u001b[0;34m.\u001b[0m\u001b[0merrstate\u001b[0m\u001b[0;34m(\u001b[0m\u001b[0minvalid\u001b[0m\u001b[0;34m=\u001b[0m\u001b[0;34m'ignore'\u001b[0m\u001b[0;34m)\u001b[0m\u001b[0;34m:\u001b[0m\u001b[0;34m\u001b[0m\u001b[0;34m\u001b[0m\u001b[0m\n\u001b[0;32m---> 76\u001b[0;31m                     \u001b[0;32mreturn\u001b[0m \u001b[0mf\u001b[0m\u001b[0;34m(\u001b[0m\u001b[0;34m*\u001b[0m\u001b[0margs\u001b[0m\u001b[0;34m,\u001b[0m \u001b[0;34m**\u001b[0m\u001b[0mkwargs\u001b[0m\u001b[0;34m)\u001b[0m\u001b[0;34m\u001b[0m\u001b[0;34m\u001b[0m\u001b[0m\n\u001b[0m\u001b[1;32m     77\u001b[0m             \u001b[0;32mexcept\u001b[0m \u001b[0mValueError\u001b[0m \u001b[0;32mas\u001b[0m \u001b[0me\u001b[0m\u001b[0;34m:\u001b[0m\u001b[0;34m\u001b[0m\u001b[0;34m\u001b[0m\u001b[0m\n\u001b[1;32m     78\u001b[0m                 \u001b[0;31m# we want to transform an object array\u001b[0m\u001b[0;34m\u001b[0m\u001b[0;34m\u001b[0m\u001b[0;34m\u001b[0m\u001b[0m\n",
      "\u001b[0;32m/anaconda3/lib/python3.6/site-packages/pandas/core/nanops.py\u001b[0m in \u001b[0;36mf\u001b[0;34m(values, axis, skipna, **kwds)\u001b[0m\n\u001b[1;32m    136\u001b[0m \u001b[0;34m\u001b[0m\u001b[0m\n\u001b[1;32m    137\u001b[0m                     \u001b[0;32mif\u001b[0m \u001b[0mis_object_dtype\u001b[0m\u001b[0;34m(\u001b[0m\u001b[0mvalues\u001b[0m\u001b[0;34m)\u001b[0m\u001b[0;34m:\u001b[0m\u001b[0;34m\u001b[0m\u001b[0;34m\u001b[0m\u001b[0m\n\u001b[0;32m--> 138\u001b[0;31m                         \u001b[0;32mraise\u001b[0m \u001b[0mTypeError\u001b[0m\u001b[0;34m(\u001b[0m\u001b[0me\u001b[0m\u001b[0;34m)\u001b[0m\u001b[0;34m\u001b[0m\u001b[0;34m\u001b[0m\u001b[0m\n\u001b[0m\u001b[1;32m    139\u001b[0m                     \u001b[0;32mraise\u001b[0m\u001b[0;34m\u001b[0m\u001b[0;34m\u001b[0m\u001b[0m\n\u001b[1;32m    140\u001b[0m \u001b[0;34m\u001b[0m\u001b[0m\n",
      "\u001b[0;31mTypeError\u001b[0m: could not convert string to float: '178cm'"
     ]
    }
   ],
   "source": [
    "# this cell will produce an error\n",
    "df['height_ind'].median()"
   ]
  },
  {
   "cell_type": "markdown",
   "metadata": {
    "slideshow": {
     "slide_type": "slide"
    }
   },
   "source": [
    "## Cleaning: Height\n",
    "\n",
    "- Remove responses that included unit in response\n",
    "- Apply to both height Series (columns)\n",
    "\n",
    "Questions: \n",
    "- What is your height (in cm)?\n",
    "- What is the average height of the people in this room (in cm)?"
   ]
  },
  {
   "cell_type": "code",
   "execution_count": 8,
   "metadata": {
    "scrolled": true,
    "slideshow": {
     "slide_type": "fragment"
    }
   },
   "outputs": [
    {
     "data": {
      "text/plain": [
       "array(['150', '173.5', '178cm', '155', '158', '165', '166', '176', '178',\n",
       "       '170.1', '182', '160', '120', '170', '162', '175', '162.56', '180',\n",
       "       '62', '157', '183', '190', '167', '60', '168', '171', '210', '172',\n",
       "       '142 cm ', '157 cm', '154.94', '173', '185', '200', '187', '184',\n",
       "       '164', '159', '169', '177.8', '170.18', '180.34', '163'],\n",
       "      dtype=object)"
      ]
     },
     "execution_count": 8,
     "metadata": {},
     "output_type": "execute_result"
    }
   ],
   "source": [
    "# take a look at unique values\n",
    "df[\"height_ind\"].unique()"
   ]
  },
  {
   "cell_type": "code",
   "execution_count": 9,
   "metadata": {
    "scrolled": true,
    "slideshow": {
     "slide_type": "fragment"
    }
   },
   "outputs": [
    {
     "data": {
      "text/plain": [
       "array(['170', '125', '168', '169cm', '140', '173', '178', '180', '160',\n",
       "       '175', '200', '130', '1x10^2 cm', '172', '164', '65', '165', '176',\n",
       "       '150', '60', '165 cm ', '162', '162.25', '165cm', '170.18',\n",
       "       '168.91', '172.72'], dtype=object)"
      ]
     },
     "execution_count": 9,
     "metadata": {},
     "output_type": "execute_result"
    }
   ],
   "source": [
    "# take a look at unique values\n",
    "df[\"height_class\"].unique()"
   ]
  },
  {
   "cell_type": "code",
   "execution_count": 10,
   "metadata": {
    "slideshow": {
     "slide_type": "fragment"
    }
   },
   "outputs": [],
   "source": [
    "# standardize height column\n",
    "def standardize_height(string):\n",
    "    \n",
    "    orig = string\n",
    "    output = None\n",
    "    \n",
    "    # Basic string pre-processing\n",
    "    string = string.lower()\n",
    "    string = string.strip()\n",
    "    \n",
    "    # take care of inclded unit cases\n",
    "    string = string.replace(\"cm\", \"\")\n",
    "    string = string.strip()\n",
    "    \n",
    "    # take care of scientific notation cases\n",
    "    string = string.replace(\"x10^2\", \"00\")\n",
    "\n",
    "    # convert to numeric\n",
    "    output = float(string)\n",
    "    \n",
    "    return output"
   ]
  },
  {
   "cell_type": "code",
   "execution_count": 11,
   "metadata": {
    "slideshow": {
     "slide_type": "fragment"
    }
   },
   "outputs": [],
   "source": [
    "# apply function across values in height columns\n",
    "df[\"height_ind\"] = df[\"height_ind\"].apply(standardize_height)\n",
    "df[\"height_class\"] = df[\"height_class\"].apply(standardize_height)"
   ]
  },
  {
   "cell_type": "code",
   "execution_count": 12,
   "metadata": {
    "scrolled": false,
    "slideshow": {
     "slide_type": "fragment"
    }
   },
   "outputs": [
    {
     "data": {
      "text/plain": [
       "array([150.  , 173.5 , 178.  , 155.  , 158.  , 165.  , 166.  , 176.  ,\n",
       "       170.1 , 182.  , 160.  , 120.  , 170.  , 162.  , 175.  , 162.56,\n",
       "       180.  ,  62.  , 157.  , 183.  , 190.  , 167.  ,  60.  , 168.  ,\n",
       "       171.  , 210.  , 172.  , 142.  , 154.94, 173.  , 185.  , 200.  ,\n",
       "       187.  , 184.  , 164.  , 159.  , 169.  , 177.8 , 170.18, 180.34,\n",
       "       163.  ])"
      ]
     },
     "execution_count": 12,
     "metadata": {},
     "output_type": "execute_result"
    }
   ],
   "source": [
    "# check output after apply\n",
    "df['height_ind'].unique()"
   ]
  },
  {
   "cell_type": "code",
   "execution_count": 13,
   "metadata": {
    "scrolled": true,
    "slideshow": {
     "slide_type": "fragment"
    }
   },
   "outputs": [
    {
     "data": {
      "text/plain": [
       "array([170.  , 125.  , 168.  , 169.  , 140.  , 173.  , 178.  , 180.  ,\n",
       "       160.  , 175.  , 200.  , 130.  , 100.  , 172.  , 164.  ,  65.  ,\n",
       "       165.  , 176.  , 150.  ,  60.  , 162.  , 162.25, 170.18, 168.91,\n",
       "       172.72])"
      ]
     },
     "execution_count": 13,
     "metadata": {},
     "output_type": "execute_result"
    }
   ],
   "source": [
    "# check output after apply\n",
    "df['height_class'].unique()"
   ]
  },
  {
   "cell_type": "code",
   "execution_count": 14,
   "metadata": {
    "scrolled": true,
    "slideshow": {
     "slide_type": "fragment"
    }
   },
   "outputs": [
    {
     "data": {
      "text/plain": [
       "170.0"
      ]
     },
     "execution_count": 14,
     "metadata": {},
     "output_type": "execute_result"
    }
   ],
   "source": [
    "df['height_ind'].median()"
   ]
  },
  {
   "cell_type": "code",
   "execution_count": 15,
   "metadata": {
    "slideshow": {
     "slide_type": "-"
    }
   },
   "outputs": [
    {
     "data": {
      "text/plain": [
       "170.0"
      ]
     },
     "execution_count": 15,
     "metadata": {},
     "output_type": "execute_result"
    }
   ],
   "source": [
    "df['height_class'].median()"
   ]
  },
  {
   "cell_type": "markdown",
   "metadata": {
    "slideshow": {
     "slide_type": "slide"
    }
   },
   "source": [
    "## Cleaning: Hair Growth\n",
    "\n",
    "How fast does human hair grow (cm/yr)?"
   ]
  },
  {
   "cell_type": "markdown",
   "metadata": {
    "slideshow": {
     "slide_type": "slide"
    }
   },
   "source": [
    "### iClicker Question #2\n",
    "\n",
    "Which do you think is closest the actual speed at which hair grows (in cm/yr)?\n",
    "\n",
    "- A) 1\n",
    "- B) 10\n",
    "- C) 100\n",
    "- D) 1000"
   ]
  },
  {
   "cell_type": "code",
   "execution_count": 16,
   "metadata": {
    "slideshow": {
     "slide_type": "fragment"
    }
   },
   "outputs": [
    {
     "data": {
      "text/plain": [
       "array(['10', '8', '15cm/yr', '36', '20', '4', '15', '20/', '30', '60',\n",
       "       '12', '10cm/yr', '152', '25cm/yr', '100', '4/yr', '6', '50', '40',\n",
       "       '17', '2 cm ', '5', '7', '1.5', '144 cm ', '60 cm/ye', '3', '300',\n",
       "       '0.01', '9cm/yr', '15.24', '30cm/yr'], dtype=object)"
      ]
     },
     "execution_count": 16,
     "metadata": {},
     "output_type": "execute_result"
    }
   ],
   "source": [
    "# take a look at unique values\n",
    "df[\"hair_growth\"].unique()"
   ]
  },
  {
   "cell_type": "code",
   "execution_count": 17,
   "metadata": {
    "slideshow": {
     "slide_type": "fragment"
    }
   },
   "outputs": [],
   "source": [
    "# standardize height column\n",
    "def standardize_hair(string):\n",
    "    \n",
    "    orig = string\n",
    "    output = None\n",
    "    \n",
    "    # Basic string pre-processing\n",
    "    string = string.lower()\n",
    "    string = string.strip()\n",
    "    \n",
    "    # take care of inclded unit cases\n",
    "    string = string.replace(\"cm/ye\", \"\")\n",
    "    string = string.replace(\"cm/yr\", \"\")\n",
    "    string = string.replace(\"yr\", \"\")\n",
    "    string = string.replace(\"cm\", \"\")    \n",
    "    string = string.replace(\"/\", \"\")\n",
    "\n",
    "    string = string.strip()\n",
    "\n",
    "    # convert to numeric\n",
    "    output = float(string)\n",
    "    \n",
    "    return output"
   ]
  },
  {
   "cell_type": "code",
   "execution_count": 18,
   "metadata": {
    "slideshow": {
     "slide_type": "fragment"
    }
   },
   "outputs": [
    {
     "data": {
      "text/plain": [
       "array([1.000e+01, 8.000e+00, 1.500e+01, 3.600e+01, 2.000e+01, 4.000e+00,\n",
       "       3.000e+01, 6.000e+01, 1.200e+01, 1.520e+02, 2.500e+01, 1.000e+02,\n",
       "       6.000e+00, 5.000e+01, 4.000e+01, 1.700e+01, 2.000e+00, 5.000e+00,\n",
       "       7.000e+00, 1.500e+00, 1.440e+02, 3.000e+00, 3.000e+02, 1.000e-02,\n",
       "       9.000e+00, 1.524e+01])"
      ]
     },
     "execution_count": 18,
     "metadata": {},
     "output_type": "execute_result"
    }
   ],
   "source": [
    "# apply function across values in hair growth columns\n",
    "df[\"hair_growth\"] = df[\"hair_growth\"].apply(standardize_hair)\n",
    "df[\"hair_growth\"].unique()"
   ]
  },
  {
   "cell_type": "code",
   "execution_count": 19,
   "metadata": {
    "slideshow": {
     "slide_type": "fragment"
    }
   },
   "outputs": [
    {
     "data": {
      "text/plain": [
       "count     76.000000\n",
       "mean      29.684079\n",
       "std       43.012832\n",
       "min        0.010000\n",
       "25%       10.000000\n",
       "50%       15.000000\n",
       "75%       30.000000\n",
       "max      300.000000\n",
       "Name: hair_growth, dtype: float64"
      ]
     },
     "execution_count": 19,
     "metadata": {},
     "output_type": "execute_result"
    }
   ],
   "source": [
    "df['hair_growth'].describe()"
   ]
  },
  {
   "cell_type": "code",
   "execution_count": 20,
   "metadata": {
    "slideshow": {
     "slide_type": "fragment"
    }
   },
   "outputs": [
    {
     "data": {
      "text/plain": [
       "15.0"
      ]
     },
     "execution_count": 20,
     "metadata": {},
     "output_type": "execute_result"
    }
   ],
   "source": [
    "# compare to actual value: 15 cm/year (~6 in)\n",
    "df[\"hair_growth\"].median()"
   ]
  },
  {
   "cell_type": "markdown",
   "metadata": {
    "slideshow": {
     "slide_type": "slide"
    }
   },
   "source": [
    "## Cleaning: Crammed\n",
    "\n",
    "If every living person stood crammed together side-by-side, how large of an area would they occupy (km²)?"
   ]
  },
  {
   "cell_type": "markdown",
   "metadata": {
    "slideshow": {
     "slide_type": "slide"
    }
   },
   "source": [
    "### iClicker Question #3\n",
    "\n",
    "Which do you think is closest the actual area every living person would occupy (in km²)?\n",
    "\n",
    "- A) 100\n",
    "- B) 1,000\n",
    "- C) 10,000\n",
    "- D) 100,000"
   ]
  },
  {
   "cell_type": "code",
   "execution_count": 21,
   "metadata": {
    "scrolled": false,
    "slideshow": {
     "slide_type": "fragment"
    }
   },
   "outputs": [
    {
     "data": {
      "text/plain": [
       "array(['6000', '10000', '1000000', '0.2', '12', '100000', '2500', '20',\n",
       "       '1000', '5', '100', '400', '145', '100 000', '1x10^10 km^2', '1',\n",
       "       '500', '50', '100000000', '54', '900', '10', '100,000', '10000000',\n",
       "       '365 km ', '600000000', '5000', '290,000,000', '7.5 x 10^6 km ',\n",
       "       '7200000', '5,000', '1500', '1000 km^2', '500000', '1400', '550',\n",
       "       '130', '0.01', '700000', '3 million km^2', '20000', '700km²',\n",
       "       '4000', '2723000000', '285,750 (km^2)', '1500km^2'], dtype=object)"
      ]
     },
     "execution_count": 21,
     "metadata": {},
     "output_type": "execute_result"
    }
   ],
   "source": [
    "df['crammed'].unique()"
   ]
  },
  {
   "cell_type": "code",
   "execution_count": 22,
   "metadata": {
    "slideshow": {
     "slide_type": "fragment"
    }
   },
   "outputs": [],
   "source": [
    "# standardize crammed column\n",
    "def standardize_crammed(string):\n",
    "    \n",
    "    orig = string\n",
    "    output = None\n",
    "    \n",
    "    # Basic string pre-processing\n",
    "    string = string.lower()\n",
    "    string = string.strip()\n",
    "    \n",
    "    # take care of commas\n",
    "    string = string.replace(\",\", \"\")\n",
    "\n",
    "    # take care of inclded unit cases\n",
    "    string = string.replace(\"(km^2)\", \"\")\n",
    "    string = string.replace(\"km^2\", \"\")\n",
    "    string = string.replace(\"km²\", \"\")\n",
    "    string = string.replace(\"km\", \"\")\n",
    "\n",
    "    string = string.strip()\n",
    "    \n",
    "    # take care of scientific notation / word cases\n",
    "    string = string.replace(\"x10^10\", \"0000000000\")\n",
    "    string = string.replace(\"7.5 x 10^6\", \"7500000\")\n",
    "    string = string.replace(\"x10^2\", \"00\")\n",
    "    string = string.replace(\" million\", \"000000\")\n",
    "    \n",
    "    # take care of case with space in middle\n",
    "    string = string.replace(\"100 000\", \"100000\")\n",
    "\n",
    "\n",
    "    # convert to numeric\n",
    "    output = float(string)\n",
    "    \n",
    "    return output"
   ]
  },
  {
   "cell_type": "code",
   "execution_count": 23,
   "metadata": {
    "scrolled": true,
    "slideshow": {
     "slide_type": "fragment"
    }
   },
   "outputs": [
    {
     "data": {
      "text/plain": [
       "array([6.0000e+03, 1.0000e+04, 1.0000e+06, 2.0000e-01, 1.2000e+01,\n",
       "       1.0000e+05, 2.5000e+03, 2.0000e+01, 1.0000e+03, 5.0000e+00,\n",
       "       1.0000e+02, 4.0000e+02, 1.4500e+02, 1.0000e+10, 1.0000e+00,\n",
       "       5.0000e+02, 5.0000e+01, 1.0000e+08, 5.4000e+01, 9.0000e+02,\n",
       "       1.0000e+01, 1.0000e+07, 3.6500e+02, 6.0000e+08, 5.0000e+03,\n",
       "       2.9000e+08, 7.5000e+06, 7.2000e+06, 1.5000e+03, 5.0000e+05,\n",
       "       1.4000e+03, 5.5000e+02, 1.3000e+02, 1.0000e-02, 7.0000e+05,\n",
       "       3.0000e+06, 2.0000e+04, 7.0000e+02, 4.0000e+03, 2.7230e+09,\n",
       "       2.8575e+05])"
      ]
     },
     "execution_count": 23,
     "metadata": {},
     "output_type": "execute_result"
    }
   ],
   "source": [
    "# apply function across values in crammed columns\n",
    "df[\"crammed\"] = df[\"crammed\"].apply(standardize_crammed)\n",
    "df[\"crammed\"].unique()"
   ]
  },
  {
   "cell_type": "code",
   "execution_count": 24,
   "metadata": {
    "scrolled": false,
    "slideshow": {
     "slide_type": "fragment"
    }
   },
   "outputs": [
    {
     "data": {
      "text/plain": [
       "timestamp        object\n",
       "height_ind      float64\n",
       "height_class    float64\n",
       "hair_growth     float64\n",
       "crammed         float64\n",
       "SAN_NYC          object\n",
       "dtype: object"
      ]
     },
     "execution_count": 24,
     "metadata": {},
     "output_type": "execute_result"
    }
   ],
   "source": [
    "# check to see how commas are being handled\n",
    "df.dtypes"
   ]
  },
  {
   "cell_type": "code",
   "execution_count": 25,
   "metadata": {
    "slideshow": {
     "slide_type": "fragment"
    }
   },
   "outputs": [
    {
     "data": {
      "text/plain": [
       "5000.0"
      ]
     },
     "execution_count": 25,
     "metadata": {},
     "output_type": "execute_result"
    }
   ],
   "source": [
    "# compare to actual value: 1,000-10,000 km^2)\n",
    "df['crammed'].median()"
   ]
  },
  {
   "cell_type": "markdown",
   "metadata": {
    "slideshow": {
     "slide_type": "slide"
    }
   },
   "source": [
    "## Cleaning: San Diego to NYC\n",
    "\n",
    "How many days would it take to walk from here to New York City (assuming no stopping to fix shoes, apply sunscreen, or for sleeping, eating, or other biological needs)?"
   ]
  },
  {
   "cell_type": "code",
   "execution_count": 26,
   "metadata": {
    "scrolled": false,
    "slideshow": {
     "slide_type": "fragment"
    }
   },
   "outputs": [
    {
     "data": {
      "text/plain": [
       "array(['lots', '200', '22', '90', '365', '213', '30', '25', '400', '500',\n",
       "       '60 days', '1 year', '5', '100', '180', '65', '10^3', '600',\n",
       "       '75 days', '60', '20', '21', '12', '2000', '50', '35', '10', '38',\n",
       "       '70', '80', '30 days', '7', '488', '36', '680', '50 days', '300',\n",
       "       '45 days', '6', '38 days', '5 days', '40', '4 months', '350 days'],\n",
       "      dtype=object)"
      ]
     },
     "execution_count": 26,
     "metadata": {},
     "output_type": "execute_result"
    }
   ],
   "source": [
    "df['SAN_NYC'].unique()"
   ]
  },
  {
   "cell_type": "code",
   "execution_count": 28,
   "metadata": {
    "slideshow": {
     "slide_type": "fragment"
    }
   },
   "outputs": [],
   "source": [
    "# standardize distance column\n",
    "def standardize_distance(string):\n",
    "    \n",
    "    orig = string\n",
    "    output = None\n",
    "    \n",
    "    # Basic string pre-processing\n",
    "    string = string.lower()\n",
    "    string = string.strip()\n",
    "    \n",
    "    # remove units\n",
    "    string = string.replace(\"days\", \"\")\n",
    "    \n",
    "    # take care of non-days answers\n",
    "    string = string.replace(\"4 months\", \"120\")\n",
    "    string = string.replace(\"1 year\", \"365\")\n",
    "    string = string.replace(\"lots\", \"NaN\")\n",
    "    \n",
    "    # take care of scientific notation \n",
    "    string = string.replace(\"10^3\", \"10000\")\n",
    "    \n",
    "    string = string.strip()\n",
    "\n",
    "    # convert to numeric\n",
    "    output = float(string)\n",
    "    \n",
    "    return output"
   ]
  },
  {
   "cell_type": "code",
   "execution_count": 29,
   "metadata": {
    "scrolled": true,
    "slideshow": {
     "slide_type": "fragment"
    }
   },
   "outputs": [
    {
     "data": {
      "text/plain": [
       "array([     nan, 2.00e+02, 2.20e+01, 9.00e+01, 3.65e+02, 2.13e+02,\n",
       "       3.00e+01, 2.50e+01, 4.00e+02, 5.00e+02, 6.00e+01, 5.00e+00,\n",
       "       1.00e+02, 1.80e+02, 6.50e+01, 1.00e+04, 6.00e+02, 7.50e+01,\n",
       "       2.00e+01, 2.10e+01, 1.20e+01, 2.00e+03, 5.00e+01, 3.50e+01,\n",
       "       1.00e+01, 3.80e+01, 7.00e+01, 8.00e+01, 7.00e+00, 4.88e+02,\n",
       "       3.60e+01, 6.80e+02, 3.00e+02, 4.50e+01, 6.00e+00, 4.00e+01,\n",
       "       1.20e+02, 3.50e+02])"
      ]
     },
     "execution_count": 29,
     "metadata": {},
     "output_type": "execute_result"
    }
   ],
   "source": [
    "# apply function across values in crammed columns\n",
    "df[\"SAN_NYC\"] = df[\"SAN_NYC\"].apply(standardize_distance)\n",
    "df[\"SAN_NYC\"].unique()"
   ]
  },
  {
   "cell_type": "code",
   "execution_count": 30,
   "metadata": {
    "scrolled": true,
    "slideshow": {
     "slide_type": "fragment"
    }
   },
   "outputs": [
    {
     "data": {
      "text/plain": [
       "75.0"
      ]
     },
     "execution_count": 30,
     "metadata": {},
     "output_type": "execute_result"
    }
   ],
   "source": [
    "# compare to actual value: 38 days)\n",
    "df['SAN_NYC'].median()"
   ]
  },
  {
   "cell_type": "markdown",
   "metadata": {
    "slideshow": {
     "slide_type": "slide"
    }
   },
   "source": [
    "## Take Home Messages\n",
    "\n",
    "1. Look at your data! (People behave unexpectedly.)\n",
    "2. Get your data into a tidy data format.\n",
    "3. Fix (Standardize) your data - or, better yet, collect better data!\n",
    "4. Use your intuition/knowledge/information out there to consider if values make sense."
   ]
  }
 ],
 "metadata": {
  "celltoolbar": "Slideshow",
  "kernelspec": {
   "display_name": "Python 3",
   "language": "python",
   "name": "python3"
  },
  "language_info": {
   "codemirror_mode": {
    "name": "ipython",
    "version": 3
   },
   "file_extension": ".py",
   "mimetype": "text/x-python",
   "name": "python",
   "nbconvert_exporter": "python",
   "pygments_lexer": "ipython3",
   "version": "3.6.8"
  },
  "rise": {
   "scroll": true
  }
 },
 "nbformat": 4,
 "nbformat_minor": 2
}
