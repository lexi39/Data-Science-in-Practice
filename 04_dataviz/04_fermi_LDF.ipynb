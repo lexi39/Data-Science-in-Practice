{
 "cells": [
  {
   "cell_type": "markdown",
   "metadata": {
    "slideshow": {
     "slide_type": "slide"
    }
   },
   "source": [
    "## Class Announcements\n",
    "- **Project Proposal** due Friday\n",
    "    - submit in your group's repo on GitHub\n",
    "    - use the Project Proposal document in Projects repo\n",
    "    - you cloned that repo onto your computer for A1\n",
    "    - one submission per group\n",
    "- **Week 3 quiz** available (due Friday)\n",
    "- **A2** due next Friday\n",
    "- **Office Hours (Prof Ellis)** - 2:30 - 4 PM *this week only*"
   ]
  },
  {
   "cell_type": "markdown",
   "metadata": {
    "slideshow": {
     "slide_type": "slide"
    }
   },
   "source": [
    "### Final Group Repos: Created on GitHub \n",
    "- Incorrect PID: 6 people\n",
    "- Incorrect GH username: 5 people (dmunajat, esuaestrada, rkuijnj, harbor_s, poonamvarkhedi)\n",
    "- Group sizes: 1 group of 3 people\n",
    "- Students without a group: 43"
   ]
  },
  {
   "cell_type": "markdown",
   "metadata": {
    "slideshow": {
     "slide_type": "slide"
    }
   },
   "source": [
    "# Data Wrangling, Data Intuition & Wisdom of the Crowds\n",
    "\n",
    "Putting it all together:\n",
    "- pandas\n",
    "- data wrangling\n",
    "- data inuition\n",
    "- wisdom of the crowds\n",
    "\n",
    "We'll use your responses to the Fermi estimation Google Form to do this."
   ]
  },
  {
   "cell_type": "markdown",
   "metadata": {
    "slideshow": {
     "slide_type": "slide"
    }
   },
   "source": [
    "## Setup"
   ]
  },
  {
   "cell_type": "code",
   "execution_count": 1,
   "metadata": {
    "slideshow": {
     "slide_type": "-"
    }
   },
   "outputs": [],
   "source": [
    "# import working with data libraries\n",
    "import pandas as pd\n",
    "import numpy as np"
   ]
  },
  {
   "cell_type": "markdown",
   "metadata": {
    "slideshow": {
     "slide_type": "slide"
    }
   },
   "source": [
    "## The Data"
   ]
  },
  {
   "cell_type": "code",
   "execution_count": 2,
   "metadata": {
    "slideshow": {
     "slide_type": "-"
    }
   },
   "outputs": [],
   "source": [
    "# read data into Python\n",
    "df = pd.read_csv('data/fermi_wi20.csv')"
   ]
  },
  {
   "cell_type": "code",
   "execution_count": 3,
   "metadata": {
    "scrolled": false,
    "slideshow": {
     "slide_type": "fragment"
    }
   },
   "outputs": [
    {
     "data": {
      "text/html": [
       "<div>\n",
       "<style scoped>\n",
       "    .dataframe tbody tr th:only-of-type {\n",
       "        vertical-align: middle;\n",
       "    }\n",
       "\n",
       "    .dataframe tbody tr th {\n",
       "        vertical-align: top;\n",
       "    }\n",
       "\n",
       "    .dataframe thead th {\n",
       "        text-align: right;\n",
       "    }\n",
       "</style>\n",
       "<table border=\"1\" class=\"dataframe\">\n",
       "  <thead>\n",
       "    <tr style=\"text-align: right;\">\n",
       "      <th></th>\n",
       "      <th>Timestamp</th>\n",
       "      <th>What is your height (in cm)?</th>\n",
       "      <th>What is the average height of the people in this room (in cm)?</th>\n",
       "      <th>How fast does human hair grow (cm/yr)?</th>\n",
       "      <th>If every living person stood crammed together side-by-side, how large of an area would they occupy (km²)?</th>\n",
       "      <th>How many days would it take to walk from here to New York City (assuming no stopping to fix shoes, apply sunscreen, or for sleeping, eating, or other biological needs)?</th>\n",
       "    </tr>\n",
       "  </thead>\n",
       "  <tbody>\n",
       "    <tr>\n",
       "      <th>0</th>\n",
       "      <td>1/23/2020 9:18:26</td>\n",
       "      <td>150</td>\n",
       "      <td>170</td>\n",
       "      <td>10</td>\n",
       "      <td>6000</td>\n",
       "      <td>lots</td>\n",
       "    </tr>\n",
       "    <tr>\n",
       "      <th>1</th>\n",
       "      <td>1/23/2020 9:18:32</td>\n",
       "      <td>150</td>\n",
       "      <td>125</td>\n",
       "      <td>10</td>\n",
       "      <td>10000</td>\n",
       "      <td>200</td>\n",
       "    </tr>\n",
       "    <tr>\n",
       "      <th>2</th>\n",
       "      <td>1/23/2020 9:18:40</td>\n",
       "      <td>173.5</td>\n",
       "      <td>168</td>\n",
       "      <td>8</td>\n",
       "      <td>1000000</td>\n",
       "      <td>22</td>\n",
       "    </tr>\n",
       "    <tr>\n",
       "      <th>3</th>\n",
       "      <td>1/23/2020 9:18:54</td>\n",
       "      <td>178cm</td>\n",
       "      <td>169cm</td>\n",
       "      <td>15cm/yr</td>\n",
       "      <td>0.2</td>\n",
       "      <td>90</td>\n",
       "    </tr>\n",
       "    <tr>\n",
       "      <th>4</th>\n",
       "      <td>1/23/2020 9:18:57</td>\n",
       "      <td>155</td>\n",
       "      <td>140</td>\n",
       "      <td>36</td>\n",
       "      <td>12</td>\n",
       "      <td>365</td>\n",
       "    </tr>\n",
       "    <tr>\n",
       "      <th>...</th>\n",
       "      <td>...</td>\n",
       "      <td>...</td>\n",
       "      <td>...</td>\n",
       "      <td>...</td>\n",
       "      <td>...</td>\n",
       "      <td>...</td>\n",
       "    </tr>\n",
       "    <tr>\n",
       "      <th>71</th>\n",
       "      <td>1/23/2020 11:35:30</td>\n",
       "      <td>177.8</td>\n",
       "      <td>160</td>\n",
       "      <td>15</td>\n",
       "      <td>4000</td>\n",
       "      <td>4 months</td>\n",
       "    </tr>\n",
       "    <tr>\n",
       "      <th>72</th>\n",
       "      <td>1/23/2020 11:38:26</td>\n",
       "      <td>185</td>\n",
       "      <td>168</td>\n",
       "      <td>30</td>\n",
       "      <td>1000</td>\n",
       "      <td>100</td>\n",
       "    </tr>\n",
       "    <tr>\n",
       "      <th>73</th>\n",
       "      <td>1/23/2020 11:39:13</td>\n",
       "      <td>170.18</td>\n",
       "      <td>168.91</td>\n",
       "      <td>15.24</td>\n",
       "      <td>2723000000</td>\n",
       "      <td>38</td>\n",
       "    </tr>\n",
       "    <tr>\n",
       "      <th>74</th>\n",
       "      <td>1/23/2020 11:48:00</td>\n",
       "      <td>180.34</td>\n",
       "      <td>172.72</td>\n",
       "      <td>15.24</td>\n",
       "      <td>285,750 (km^2)</td>\n",
       "      <td>40</td>\n",
       "    </tr>\n",
       "    <tr>\n",
       "      <th>75</th>\n",
       "      <td>1/23/2020 12:44:21</td>\n",
       "      <td>163</td>\n",
       "      <td>175</td>\n",
       "      <td>30cm/yr</td>\n",
       "      <td>1500km^2</td>\n",
       "      <td>350 days</td>\n",
       "    </tr>\n",
       "  </tbody>\n",
       "</table>\n",
       "<p>76 rows × 6 columns</p>\n",
       "</div>"
      ],
      "text/plain": [
       "             Timestamp What is your height (in cm)?  \\\n",
       "0    1/23/2020 9:18:26                          150   \n",
       "1    1/23/2020 9:18:32                          150   \n",
       "2    1/23/2020 9:18:40                        173.5   \n",
       "3    1/23/2020 9:18:54                        178cm   \n",
       "4    1/23/2020 9:18:57                          155   \n",
       "..                 ...                          ...   \n",
       "71  1/23/2020 11:35:30                        177.8   \n",
       "72  1/23/2020 11:38:26                          185   \n",
       "73  1/23/2020 11:39:13                       170.18   \n",
       "74  1/23/2020 11:48:00                       180.34   \n",
       "75  1/23/2020 12:44:21                          163   \n",
       "\n",
       "   What is the average height of the people in this room (in cm)?  \\\n",
       "0                                                 170               \n",
       "1                                                 125               \n",
       "2                                                 168               \n",
       "3                                               169cm               \n",
       "4                                                 140               \n",
       "..                                                ...               \n",
       "71                                                160               \n",
       "72                                                168               \n",
       "73                                             168.91               \n",
       "74                                             172.72               \n",
       "75                                                175               \n",
       "\n",
       "   How fast does human hair grow (cm/yr)?  \\\n",
       "0                                      10   \n",
       "1                                      10   \n",
       "2                                       8   \n",
       "3                                 15cm/yr   \n",
       "4                                      36   \n",
       "..                                    ...   \n",
       "71                                     15   \n",
       "72                                     30   \n",
       "73                                  15.24   \n",
       "74                                  15.24   \n",
       "75                                30cm/yr   \n",
       "\n",
       "   If every living person stood crammed together side-by-side, how large of an area would they occupy (km²)?  \\\n",
       "0                                                6000                                                          \n",
       "1                                               10000                                                          \n",
       "2                                             1000000                                                          \n",
       "3                                                 0.2                                                          \n",
       "4                                                  12                                                          \n",
       "..                                                ...                                                          \n",
       "71                                               4000                                                          \n",
       "72                                               1000                                                          \n",
       "73                                         2723000000                                                          \n",
       "74                                     285,750 (km^2)                                                          \n",
       "75                                           1500km^2                                                          \n",
       "\n",
       "   How many days would it take to walk from here to New York City (assuming no stopping to fix shoes, apply sunscreen, or for sleeping, eating, or other biological needs)?  \n",
       "0                                                lots                                                                                                                        \n",
       "1                                                 200                                                                                                                        \n",
       "2                                                  22                                                                                                                        \n",
       "3                                                  90                                                                                                                        \n",
       "4                                                 365                                                                                                                        \n",
       "..                                                ...                                                                                                                        \n",
       "71                                           4 months                                                                                                                        \n",
       "72                                                100                                                                                                                        \n",
       "73                                                 38                                                                                                                        \n",
       "74                                                 40                                                                                                                        \n",
       "75                                           350 days                                                                                                                        \n",
       "\n",
       "[76 rows x 6 columns]"
      ]
     },
     "execution_count": 3,
     "metadata": {},
     "output_type": "execute_result"
    }
   ],
   "source": [
    "# take a look at the data\n",
    "df"
   ]
  },
  {
   "cell_type": "code",
   "execution_count": 4,
   "metadata": {},
   "outputs": [
    {
     "data": {
      "text/plain": [
       "Timestamp                                                                                                                                                                   1/23/2020 9:24:41\n",
       "What is your height (in cm)?                                                                                                                                                              165\n",
       "What is the average height of the people in this room (in cm)?                                                                                                                            180\n",
       "How fast does human hair grow (cm/yr)?                                                                                                                                                     20\n",
       "If every living person stood crammed together side-by-side, how large of an area would they occupy (km²)?                                                                         290,000,000\n",
       "How many days would it take to walk from here to New York City (assuming no stopping to fix shoes, apply sunscreen, or for sleeping, eating, or other biological needs)?                   30\n",
       "Name: 39, dtype: object"
      ]
     },
     "execution_count": 4,
     "metadata": {},
     "output_type": "execute_result"
    }
   ],
   "source": [
    "# how does pandas handle commas?\n",
    "df.iloc[39,:]"
   ]
  },
  {
   "cell_type": "markdown",
   "metadata": {
    "slideshow": {
     "slide_type": "slide"
    }
   },
   "source": [
    "## Data Cleaning & Wrangling\n",
    "\n",
    "Tidy Data Rules (Review):\n",
    "1. Every observation in a row\n",
    "2. Every variable in a column\n",
    "3. If multiple tables, column on which to merge"
   ]
  },
  {
   "cell_type": "markdown",
   "metadata": {
    "slideshow": {
     "slide_type": "slide"
    }
   },
   "source": [
    "### iClicker Question #1\n",
    "\n",
    "Are these data in the tidy data format?\n",
    "\n",
    "- A) Yes, these data are ready to analyze\n",
    "- B) Yes, but there is more work to do before analysis\n",
    "- C) No, not tidy\n",
    "- D) Have no idea what you're talking about"
   ]
  },
  {
   "cell_type": "markdown",
   "metadata": {
    "slideshow": {
     "slide_type": "slide"
    }
   },
   "source": [
    "## Brainstorming\n",
    "\n",
    "What considerations do we have to make about these data?\n",
    "\n",
    "- "
   ]
  },
  {
   "cell_type": "code",
   "execution_count": 5,
   "metadata": {
    "scrolled": true,
    "slideshow": {
     "slide_type": "slide"
    }
   },
   "outputs": [
    {
     "data": {
      "text/html": [
       "<div>\n",
       "<style scoped>\n",
       "    .dataframe tbody tr th:only-of-type {\n",
       "        vertical-align: middle;\n",
       "    }\n",
       "\n",
       "    .dataframe tbody tr th {\n",
       "        vertical-align: top;\n",
       "    }\n",
       "\n",
       "    .dataframe thead th {\n",
       "        text-align: right;\n",
       "    }\n",
       "</style>\n",
       "<table border=\"1\" class=\"dataframe\">\n",
       "  <thead>\n",
       "    <tr style=\"text-align: right;\">\n",
       "      <th></th>\n",
       "      <th>timestamp</th>\n",
       "      <th>height_ind</th>\n",
       "      <th>height_class</th>\n",
       "      <th>hair_growth</th>\n",
       "      <th>crammed</th>\n",
       "      <th>SAN_NYC</th>\n",
       "    </tr>\n",
       "  </thead>\n",
       "  <tbody>\n",
       "    <tr>\n",
       "      <th>0</th>\n",
       "      <td>1/23/2020 9:18:26</td>\n",
       "      <td>150</td>\n",
       "      <td>170</td>\n",
       "      <td>10</td>\n",
       "      <td>6000</td>\n",
       "      <td>lots</td>\n",
       "    </tr>\n",
       "    <tr>\n",
       "      <th>1</th>\n",
       "      <td>1/23/2020 9:18:32</td>\n",
       "      <td>150</td>\n",
       "      <td>125</td>\n",
       "      <td>10</td>\n",
       "      <td>10000</td>\n",
       "      <td>200</td>\n",
       "    </tr>\n",
       "    <tr>\n",
       "      <th>2</th>\n",
       "      <td>1/23/2020 9:18:40</td>\n",
       "      <td>173.5</td>\n",
       "      <td>168</td>\n",
       "      <td>8</td>\n",
       "      <td>1000000</td>\n",
       "      <td>22</td>\n",
       "    </tr>\n",
       "    <tr>\n",
       "      <th>3</th>\n",
       "      <td>1/23/2020 9:18:54</td>\n",
       "      <td>178cm</td>\n",
       "      <td>169cm</td>\n",
       "      <td>15cm/yr</td>\n",
       "      <td>0.2</td>\n",
       "      <td>90</td>\n",
       "    </tr>\n",
       "    <tr>\n",
       "      <th>4</th>\n",
       "      <td>1/23/2020 9:18:57</td>\n",
       "      <td>155</td>\n",
       "      <td>140</td>\n",
       "      <td>36</td>\n",
       "      <td>12</td>\n",
       "      <td>365</td>\n",
       "    </tr>\n",
       "  </tbody>\n",
       "</table>\n",
       "</div>"
      ],
      "text/plain": [
       "           timestamp height_ind height_class hair_growth  crammed SAN_NYC\n",
       "0  1/23/2020 9:18:26        150          170          10     6000    lots\n",
       "1  1/23/2020 9:18:32        150          125          10    10000     200\n",
       "2  1/23/2020 9:18:40      173.5          168           8  1000000      22\n",
       "3  1/23/2020 9:18:54      178cm        169cm     15cm/yr      0.2      90\n",
       "4  1/23/2020 9:18:57        155          140          36       12     365"
      ]
     },
     "execution_count": 5,
     "metadata": {},
     "output_type": "execute_result"
    }
   ],
   "source": [
    "# change column names\n",
    "df.columns = ['timestamp','height_ind', 'height_class', 'hair_growth', 'crammed', 'SAN_NYC']\n",
    "df.head()"
   ]
  },
  {
   "cell_type": "code",
   "execution_count": 6,
   "metadata": {
    "scrolled": true,
    "slideshow": {
     "slide_type": "slide"
    }
   },
   "outputs": [
    {
     "data": {
      "text/plain": [
       "timestamp       object\n",
       "height_ind      object\n",
       "height_class    object\n",
       "hair_growth     object\n",
       "crammed         object\n",
       "SAN_NYC         object\n",
       "dtype: object"
      ]
     },
     "execution_count": 6,
     "metadata": {},
     "output_type": "execute_result"
    }
   ],
   "source": [
    "# check type of each Series (column)\n",
    "df.dtypes"
   ]
  },
  {
   "cell_type": "code",
   "execution_count": null,
   "metadata": {
    "scrolled": true,
    "slideshow": {
     "slide_type": "slide"
    }
   },
   "outputs": [],
   "source": [
    "# this cell will produce an error, have to clean data first \n",
    "# df['height_ind'].median()"
   ]
  },
  {
   "cell_type": "markdown",
   "metadata": {
    "slideshow": {
     "slide_type": "slide"
    }
   },
   "source": [
    "## Cleaning: Height\n",
    "\n",
    "- Remove responses that included unit in response\n",
    "- Apply to both height Series (columns)\n",
    "\n",
    "Questions: \n",
    "- What is your height (in cm)?\n",
    "- What is the average height of the people in this room (in cm)?"
   ]
  },
  {
   "cell_type": "code",
   "execution_count": 7,
   "metadata": {
    "scrolled": true,
    "slideshow": {
     "slide_type": "fragment"
    }
   },
   "outputs": [
    {
     "data": {
      "text/plain": [
       "array(['150', '173.5', '178cm', '155', '158', '165', '166', '176', '178',\n",
       "       '170.1', '182', '160', '120', '170', '162', '175', '162.56', '180',\n",
       "       '62', '157', '183', '190', '167', '60', '168', '171', '210', '172',\n",
       "       '142 cm ', '157 cm', '154.94', '173', '185', '200', '187', '184',\n",
       "       '164', '159', '169', '177.8', '170.18', '180.34', '163'],\n",
       "      dtype=object)"
      ]
     },
     "execution_count": 7,
     "metadata": {},
     "output_type": "execute_result"
    }
   ],
   "source": [
    "# take a look at unique values\n",
    "df[\"height_ind\"].unique()"
   ]
  },
  {
   "cell_type": "code",
   "execution_count": 8,
   "metadata": {
    "scrolled": true,
    "slideshow": {
     "slide_type": "fragment"
    }
   },
   "outputs": [
    {
     "data": {
      "text/plain": [
       "array(['170', '125', '168', '169cm', '140', '173', '178', '180', '160',\n",
       "       '175', '200', '130', '1x10^2 cm', '172', '164', '65', '165', '176',\n",
       "       '150', '60', '165 cm ', '162', '162.25', '165cm', '170.18',\n",
       "       '168.91', '172.72'], dtype=object)"
      ]
     },
     "execution_count": 8,
     "metadata": {},
     "output_type": "execute_result"
    }
   ],
   "source": [
    "# take a look at unique values\n",
    "df[\"height_class\"].unique()"
   ]
  },
  {
   "cell_type": "code",
   "execution_count": 9,
   "metadata": {
    "slideshow": {
     "slide_type": "fragment"
    }
   },
   "outputs": [],
   "source": [
    "# standardize height column\n",
    "def standardize_height(string):\n",
    "    \n",
    "    orig = string\n",
    "    output = None\n",
    "    \n",
    "    # Basic string pre-processing\n",
    "    string = string.lower()\n",
    "    string = string.strip()\n",
    "    \n",
    "    # take care of inclded unit cases\n",
    "    string = string.replace(\"cm\", \"\")\n",
    "    string = string.strip()\n",
    "    \n",
    "    # take care of scientific notation cases\n",
    "    string = string.replace(\"x10^2\", \"00\")\n",
    "\n",
    "    # convert to numeric\n",
    "    output = float(string)\n",
    "    \n",
    "    return output"
   ]
  },
  {
   "cell_type": "code",
   "execution_count": 10,
   "metadata": {
    "slideshow": {
     "slide_type": "fragment"
    }
   },
   "outputs": [],
   "source": [
    "# apply function across values in height columns\n",
    "df[\"height_ind\"] = df[\"height_ind\"].apply(standardize_height)\n",
    "df[\"height_class\"] = df[\"height_class\"].apply(standardize_height)"
   ]
  },
  {
   "cell_type": "code",
   "execution_count": 11,
   "metadata": {
    "scrolled": false,
    "slideshow": {
     "slide_type": "fragment"
    }
   },
   "outputs": [
    {
     "data": {
      "text/plain": [
       "array([150.  , 173.5 , 178.  , 155.  , 158.  , 165.  , 166.  , 176.  ,\n",
       "       170.1 , 182.  , 160.  , 120.  , 170.  , 162.  , 175.  , 162.56,\n",
       "       180.  ,  62.  , 157.  , 183.  , 190.  , 167.  ,  60.  , 168.  ,\n",
       "       171.  , 210.  , 172.  , 142.  , 154.94, 173.  , 185.  , 200.  ,\n",
       "       187.  , 184.  , 164.  , 159.  , 169.  , 177.8 , 170.18, 180.34,\n",
       "       163.  ])"
      ]
     },
     "execution_count": 11,
     "metadata": {},
     "output_type": "execute_result"
    }
   ],
   "source": [
    "# check output after apply\n",
    "df['height_ind'].unique()"
   ]
  },
  {
   "cell_type": "code",
   "execution_count": null,
   "metadata": {
    "scrolled": true,
    "slideshow": {
     "slide_type": "fragment"
    }
   },
   "outputs": [],
   "source": [
    "# check output after apply\n",
    "df['height_class'].unique()"
   ]
  },
  {
   "cell_type": "code",
   "execution_count": 12,
   "metadata": {
    "scrolled": true,
    "slideshow": {
     "slide_type": "fragment"
    }
   },
   "outputs": [
    {
     "data": {
      "text/plain": [
       "170.0"
      ]
     },
     "execution_count": 12,
     "metadata": {},
     "output_type": "execute_result"
    }
   ],
   "source": [
    "df['height_ind'].median()"
   ]
  },
  {
   "cell_type": "code",
   "execution_count": 13,
   "metadata": {
    "slideshow": {
     "slide_type": "-"
    }
   },
   "outputs": [
    {
     "data": {
      "text/plain": [
       "170.0"
      ]
     },
     "execution_count": 13,
     "metadata": {},
     "output_type": "execute_result"
    }
   ],
   "source": [
    "df['height_class'].median()"
   ]
  },
  {
   "cell_type": "markdown",
   "metadata": {
    "slideshow": {
     "slide_type": "slide"
    }
   },
   "source": [
    "## Cleaning: Hair Growth\n",
    "\n",
    "How fast does human hair grow (cm/yr)?"
   ]
  },
  {
   "cell_type": "markdown",
   "metadata": {
    "slideshow": {
     "slide_type": "slide"
    }
   },
   "source": [
    "### iClicker Question #2\n",
    "\n",
    "Which do you think is closest the actual speed at which hair grows (in cm/yr)?\n",
    "\n",
    "- A) 1\n",
    "- B) 10\n",
    "- C) 100\n",
    "- D) 1000"
   ]
  },
  {
   "cell_type": "code",
   "execution_count": 14,
   "metadata": {
    "slideshow": {
     "slide_type": "fragment"
    }
   },
   "outputs": [
    {
     "data": {
      "text/plain": [
       "array(['10', '8', '15cm/yr', '36', '20', '4', '15', '20/', '30', '60',\n",
       "       '12', '10cm/yr', '152', '25cm/yr', '100', '4/yr', '6', '50', '40',\n",
       "       '17', '2 cm ', '5', '7', '1.5', '144 cm ', '60 cm/ye', '3', '300',\n",
       "       '0.01', '9cm/yr', '15.24', '30cm/yr'], dtype=object)"
      ]
     },
     "execution_count": 14,
     "metadata": {},
     "output_type": "execute_result"
    }
   ],
   "source": [
    "# take a look at unique values\n",
    "df[\"hair_growth\"].unique()"
   ]
  },
  {
   "cell_type": "code",
   "execution_count": 15,
   "metadata": {
    "slideshow": {
     "slide_type": "fragment"
    }
   },
   "outputs": [],
   "source": [
    "# standardize height column\n",
    "def standardize_hair(string):\n",
    "    \n",
    "    orig = string\n",
    "    output = None\n",
    "    \n",
    "    # Basic string pre-processing\n",
    "    string = string.lower()\n",
    "    string = string.strip()\n",
    "    \n",
    "    # take care of inclded unit cases\n",
    "    string = string.replace(\"cm/ye\", \"\")\n",
    "    string = string.replace(\"cm/yr\", \"\")\n",
    "    string = string.replace(\"yr\", \"\")\n",
    "    string = string.replace(\"cm\", \"\")    \n",
    "    string = string.replace(\"/\", \"\")\n",
    "\n",
    "    string = string.strip()\n",
    "\n",
    "    # convert to numeric\n",
    "    output = float(string)\n",
    "    \n",
    "    return output"
   ]
  },
  {
   "cell_type": "code",
   "execution_count": 16,
   "metadata": {
    "slideshow": {
     "slide_type": "fragment"
    }
   },
   "outputs": [
    {
     "data": {
      "text/plain": [
       "array([1.000e+01, 8.000e+00, 1.500e+01, 3.600e+01, 2.000e+01, 4.000e+00,\n",
       "       3.000e+01, 6.000e+01, 1.200e+01, 1.520e+02, 2.500e+01, 1.000e+02,\n",
       "       6.000e+00, 5.000e+01, 4.000e+01, 1.700e+01, 2.000e+00, 5.000e+00,\n",
       "       7.000e+00, 1.500e+00, 1.440e+02, 3.000e+00, 3.000e+02, 1.000e-02,\n",
       "       9.000e+00, 1.524e+01])"
      ]
     },
     "execution_count": 16,
     "metadata": {},
     "output_type": "execute_result"
    }
   ],
   "source": [
    "# apply function across values in hair growth columns\n",
    "df[\"hair_growth\"] = df[\"hair_growth\"].apply(standardize_hair)\n",
    "df[\"hair_growth\"].unique()"
   ]
  },
  {
   "cell_type": "code",
   "execution_count": 17,
   "metadata": {
    "slideshow": {
     "slide_type": "fragment"
    }
   },
   "outputs": [
    {
     "data": {
      "text/plain": [
       "count     76.000000\n",
       "mean      29.684079\n",
       "std       43.012832\n",
       "min        0.010000\n",
       "25%       10.000000\n",
       "50%       15.000000\n",
       "75%       30.000000\n",
       "max      300.000000\n",
       "Name: hair_growth, dtype: float64"
      ]
     },
     "execution_count": 17,
     "metadata": {},
     "output_type": "execute_result"
    }
   ],
   "source": [
    "df['hair_growth'].describe()"
   ]
  },
  {
   "cell_type": "code",
   "execution_count": 18,
   "metadata": {
    "slideshow": {
     "slide_type": "fragment"
    }
   },
   "outputs": [
    {
     "data": {
      "text/plain": [
       "15.0"
      ]
     },
     "execution_count": 18,
     "metadata": {},
     "output_type": "execute_result"
    }
   ],
   "source": [
    "# compare to actual value: 15 cm/year (~6 in)\n",
    "df[\"hair_growth\"].median()"
   ]
  },
  {
   "cell_type": "markdown",
   "metadata": {
    "slideshow": {
     "slide_type": "slide"
    }
   },
   "source": [
    "## Cleaning: Crammed\n",
    "\n",
    "If every living person stood crammed together side-by-side, how large of an area would they occupy (km²)?"
   ]
  },
  {
   "cell_type": "markdown",
   "metadata": {
    "slideshow": {
     "slide_type": "slide"
    }
   },
   "source": [
    "### iClicker Question #3\n",
    "\n",
    "Which do you think is closest the actual area every living person would occupy (in km²)?\n",
    "\n",
    "- A) 100\n",
    "- B) 1000\n",
    "- C) 10,000\n",
    "- D) 100,000"
   ]
  },
  {
   "cell_type": "code",
   "execution_count": 19,
   "metadata": {
    "scrolled": false,
    "slideshow": {
     "slide_type": "fragment"
    }
   },
   "outputs": [
    {
     "data": {
      "text/plain": [
       "array(['6000', '10000', '1000000', '0.2', '12', '100000', '2500', '20',\n",
       "       '1000', '5', '100', '400', '145', '100 000', '1x10^10 km^2', '1',\n",
       "       '500', '50', '100000000', '54', '900', '10', '100,000', '10000000',\n",
       "       '365 km ', '600000000', '5000', '290,000,000', '7.5 x 10^6 km ',\n",
       "       '7200000', '5,000', '1500', '1000 km^2', '500000', '1400', '550',\n",
       "       '130', '0.01', '700000', '3 million km^2', '20000', '700km²',\n",
       "       '4000', '2723000000', '285,750 (km^2)', '1500km^2'], dtype=object)"
      ]
     },
     "execution_count": 19,
     "metadata": {},
     "output_type": "execute_result"
    }
   ],
   "source": [
    "df['crammed'].unique()"
   ]
  },
  {
   "cell_type": "code",
   "execution_count": 20,
   "metadata": {
    "slideshow": {
     "slide_type": "fragment"
    }
   },
   "outputs": [],
   "source": [
    "# standardize crammed column\n",
    "def standardize_crammed(string):\n",
    "    \n",
    "    orig = string\n",
    "    output = None\n",
    "    \n",
    "    # Basic string pre-processing\n",
    "    string = string.lower()\n",
    "    string = string.strip()\n",
    "    \n",
    "    # take care of commas\n",
    "    string = string.replace(\",\", \"\")\n",
    "\n",
    "    # take care of inclded unit cases\n",
    "    string = string.replace(\"(km^2)\", \"\")\n",
    "    string = string.replace(\"km^2\", \"\")\n",
    "    string = string.replace(\"km²\", \"\")\n",
    "    string = string.replace(\"km\", \"\")\n",
    "\n",
    "    string = string.strip()\n",
    "    \n",
    "    # take care of scientific notation / word cases\n",
    "    string = string.replace(\"x10^10\", \"0000000000\")\n",
    "    string = string.replace(\"7.5 x 10^6\", \"7500000\")\n",
    "    string = string.replace(\"x10^2\", \"00\")\n",
    "    string = string.replace(\" million\", \"000000\")\n",
    "    \n",
    "    # take care of case with space in middle\n",
    "    string = string.replace(\"100 000\", \"100000\")\n",
    "\n",
    "\n",
    "    # convert to numeric\n",
    "    output = float(string)\n",
    "    \n",
    "    return output"
   ]
  },
  {
   "cell_type": "code",
   "execution_count": 21,
   "metadata": {
    "scrolled": true,
    "slideshow": {
     "slide_type": "fragment"
    }
   },
   "outputs": [
    {
     "data": {
      "text/plain": [
       "array([6.0000e+03, 1.0000e+04, 1.0000e+06, 2.0000e-01, 1.2000e+01,\n",
       "       1.0000e+05, 2.5000e+03, 2.0000e+01, 1.0000e+03, 5.0000e+00,\n",
       "       1.0000e+02, 4.0000e+02, 1.4500e+02, 1.0000e+10, 1.0000e+00,\n",
       "       5.0000e+02, 5.0000e+01, 1.0000e+08, 5.4000e+01, 9.0000e+02,\n",
       "       1.0000e+01, 1.0000e+07, 3.6500e+02, 6.0000e+08, 5.0000e+03,\n",
       "       2.9000e+08, 7.5000e+06, 7.2000e+06, 1.5000e+03, 5.0000e+05,\n",
       "       1.4000e+03, 5.5000e+02, 1.3000e+02, 1.0000e-02, 7.0000e+05,\n",
       "       3.0000e+06, 2.0000e+04, 7.0000e+02, 4.0000e+03, 2.7230e+09,\n",
       "       2.8575e+05])"
      ]
     },
     "execution_count": 21,
     "metadata": {},
     "output_type": "execute_result"
    }
   ],
   "source": [
    "# apply function across values in crammed columns\n",
    "df[\"crammed\"] = df[\"crammed\"].apply(standardize_crammed)\n",
    "df[\"crammed\"].unique()"
   ]
  },
  {
   "cell_type": "code",
   "execution_count": 22,
   "metadata": {
    "scrolled": false,
    "slideshow": {
     "slide_type": "fragment"
    }
   },
   "outputs": [
    {
     "data": {
      "text/plain": [
       "timestamp        object\n",
       "height_ind      float64\n",
       "height_class    float64\n",
       "hair_growth     float64\n",
       "crammed         float64\n",
       "SAN_NYC          object\n",
       "dtype: object"
      ]
     },
     "execution_count": 22,
     "metadata": {},
     "output_type": "execute_result"
    }
   ],
   "source": [
    "# check to see how commas are being handled\n",
    "df.dtypes"
   ]
  },
  {
   "cell_type": "code",
   "execution_count": 23,
   "metadata": {
    "slideshow": {
     "slide_type": "fragment"
    }
   },
   "outputs": [
    {
     "data": {
      "text/plain": [
       "5000.0"
      ]
     },
     "execution_count": 23,
     "metadata": {},
     "output_type": "execute_result"
    }
   ],
   "source": [
    "# compare to actual value: 1,000-10,000 km^2)\n",
    "df['crammed'].median()"
   ]
  },
  {
   "cell_type": "markdown",
   "metadata": {
    "slideshow": {
     "slide_type": "slide"
    }
   },
   "source": [
    "## Cleaning: San Diego to NYC\n",
    "\n",
    "How many days would it take to walk from here to New York City (assuming no stopping to fix shoes, apply sunscreen, or for sleeping, eating, or other biological needs)?"
   ]
  },
  {
   "cell_type": "code",
   "execution_count": 24,
   "metadata": {
    "scrolled": false,
    "slideshow": {
     "slide_type": "fragment"
    }
   },
   "outputs": [
    {
     "data": {
      "text/plain": [
       "array(['lots', '200', '22', '90', '365', '213', '30', '25', '400', '500',\n",
       "       '60 days', '1 year', '5', '100', '180', '65', '10^3', '600',\n",
       "       '75 days', '60', '20', '21', '12', '2000', '50', '35', '10', '38',\n",
       "       '70', '80', '30 days', '7', '488', '36', '680', '50 days', '300',\n",
       "       '45 days', '6', '38 days', '5 days', '40', '4 months', '350 days'],\n",
       "      dtype=object)"
      ]
     },
     "execution_count": 24,
     "metadata": {},
     "output_type": "execute_result"
    }
   ],
   "source": [
    "df['SAN_NYC'].unique()"
   ]
  },
  {
   "cell_type": "code",
   "execution_count": 25,
   "metadata": {
    "slideshow": {
     "slide_type": "fragment"
    }
   },
   "outputs": [],
   "source": [
    "# standardize distance column\n",
    "def standardize_distance(string):\n",
    "    \n",
    "    orig = string\n",
    "    output = None\n",
    "    \n",
    "    # Basic string pre-processing\n",
    "    string = string.lower()\n",
    "    string = string.strip()\n",
    "    \n",
    "    # remove units\n",
    "    string = string.replace(\"days\", \"\")\n",
    "    \n",
    "    # take care of non-days answers\n",
    "    string = string.replace(\"4 months\", \"120\")\n",
    "    string = string.replace(\"1 year\", \"365\")\n",
    "    string = string.replace(\"lots\", \"NaN\")\n",
    "    \n",
    "    # take care of scientific notation \n",
    "    string = string.replace(\"10^3\", \"10000\")\n",
    "    \n",
    "    string = string.strip()\n",
    "\n",
    "    # convert to numeric\n",
    "    output = float(string)\n",
    "    \n",
    "    return output"
   ]
  },
  {
   "cell_type": "code",
   "execution_count": 26,
   "metadata": {
    "scrolled": false,
    "slideshow": {
     "slide_type": "fragment"
    }
   },
   "outputs": [
    {
     "data": {
      "text/plain": [
       "array([     nan, 2.00e+02, 2.20e+01, 9.00e+01, 3.65e+02, 2.13e+02,\n",
       "       3.00e+01, 2.50e+01, 4.00e+02, 5.00e+02, 6.00e+01, 5.00e+00,\n",
       "       1.00e+02, 1.80e+02, 6.50e+01, 1.00e+04, 6.00e+02, 7.50e+01,\n",
       "       2.00e+01, 2.10e+01, 1.20e+01, 2.00e+03, 5.00e+01, 3.50e+01,\n",
       "       1.00e+01, 3.80e+01, 7.00e+01, 8.00e+01, 7.00e+00, 4.88e+02,\n",
       "       3.60e+01, 6.80e+02, 3.00e+02, 4.50e+01, 6.00e+00, 4.00e+01,\n",
       "       1.20e+02, 3.50e+02])"
      ]
     },
     "execution_count": 26,
     "metadata": {},
     "output_type": "execute_result"
    }
   ],
   "source": [
    "# apply function across values in crammed columns\n",
    "df[\"SAN_NYC\"] = df[\"SAN_NYC\"].apply(standardize_distance)\n",
    "df[\"SAN_NYC\"].unique()"
   ]
  },
  {
   "cell_type": "code",
   "execution_count": 27,
   "metadata": {
    "scrolled": true,
    "slideshow": {
     "slide_type": "fragment"
    }
   },
   "outputs": [
    {
     "data": {
      "text/plain": [
       "75.0"
      ]
     },
     "execution_count": 27,
     "metadata": {},
     "output_type": "execute_result"
    }
   ],
   "source": [
    "# compare to actual value: 38 days)\n",
    "df['SAN_NYC'].median()"
   ]
  },
  {
   "cell_type": "markdown",
   "metadata": {
    "slideshow": {
     "slide_type": "slide"
    }
   },
   "source": [
    "## Take Home Messages\n",
    "\n",
    "1. Look at your data! (People behave unexpectedly.)\n",
    "2. Get your data into a tidy data format.\n",
    "3. Fix (Standardize) your data - or, better yet, collect better data!\n",
    "4. Use your intuition/knowledge/information out there to consider if values make sense."
   ]
  }
 ],
 "metadata": {
  "celltoolbar": "Slideshow",
  "kernelspec": {
   "display_name": "Python 3",
   "language": "python",
   "name": "python3"
  },
  "language_info": {
   "codemirror_mode": {
    "name": "ipython",
    "version": 3
   },
   "file_extension": ".py",
   "mimetype": "text/x-python",
   "name": "python",
   "nbconvert_exporter": "python",
   "pygments_lexer": "ipython3",
   "version": "3.6.7"
  },
  "rise": {
   "scroll": true
  }
 },
 "nbformat": 4,
 "nbformat_minor": 2
}
